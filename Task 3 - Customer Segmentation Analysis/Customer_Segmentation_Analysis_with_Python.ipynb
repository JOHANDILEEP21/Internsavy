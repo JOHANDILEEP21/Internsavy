{
  "nbformat": 4,
  "nbformat_minor": 0,
  "metadata": {
    "colab": {
      "provenance": []
    },
    "kernelspec": {
      "name": "python3",
      "display_name": "Python 3"
    },
    "language_info": {
      "name": "python"
    }
  },
  "cells": [
    {
      "cell_type": "markdown",
      "source": [
        "# Customer Segmentation Analysis with Python"
      ],
      "metadata": {
        "id": "Wp7aetrbTY0V"
      }
    },
    {
      "cell_type": "code",
      "source": [
        "from google.colab import drive\n",
        "drive.mount('/content/drive')"
      ],
      "metadata": {
        "colab": {
          "base_uri": "https://localhost:8080/"
        },
        "id": "-rSTAA2sTd_H",
        "outputId": "49b95974-7a2f-4b00-d2c9-1b76f17ad225"
      },
      "execution_count": 1,
      "outputs": [
        {
          "output_type": "stream",
          "name": "stdout",
          "text": [
            "Mounted at /content/drive\n"
          ]
        }
      ]
    },
    {
      "cell_type": "markdown",
      "source": [
        "## Importing the required libraries"
      ],
      "metadata": {
        "id": "ni4mz9PCTkpr"
      }
    },
    {
      "cell_type": "code",
      "execution_count": 108,
      "metadata": {
        "id": "nC2ppV2PTVDA"
      },
      "outputs": [],
      "source": [
        "import pandas as pd\n",
        "import numpy as np\n",
        "import matplotlib.pyplot as plt\n",
        "import seaborn as sns\n",
        "from sklearn.decomposition import PCA\n",
        "from sklearn.preprocessing import StandardScaler\n",
        "from sklearn.cluster import KMeans\n",
        "from yellowbrick.cluster import KElbowVisualizer, SilhouetteVisualizer\n",
        "from sklearn.metrics import silhouette_score"
      ]
    },
    {
      "cell_type": "markdown",
      "source": [
        "### Importing the Dataset"
      ],
      "metadata": {
        "id": "gKdVTum8sodi"
      }
    },
    {
      "cell_type": "code",
      "source": [
        "df = pd.read_csv('/content/drive/MyDrive/Internship/Internsavy/Customer Segmentation Analysis/Mall_Customers.csv')"
      ],
      "metadata": {
        "id": "NiRa_zBVTfNb"
      },
      "execution_count": 109,
      "outputs": []
    },
    {
      "cell_type": "code",
      "source": [
        "df"
      ],
      "metadata": {
        "colab": {
          "base_uri": "https://localhost:8080/",
          "height": 423
        },
        "id": "2Yxl3fJmUi15",
        "outputId": "a6556ccf-7dab-4f11-ce7d-2cbd36f07705"
      },
      "execution_count": 110,
      "outputs": [
        {
          "output_type": "execute_result",
          "data": {
            "text/plain": [
              "     CustomerID  Gender  Age  Annual Income (k$)  Spending Score (1-100)\n",
              "0             1    Male   19                  15                      39\n",
              "1             2    Male   21                  15                      81\n",
              "2             3  Female   20                  16                       6\n",
              "3             4  Female   23                  16                      77\n",
              "4             5  Female   31                  17                      40\n",
              "..          ...     ...  ...                 ...                     ...\n",
              "195         196  Female   35                 120                      79\n",
              "196         197  Female   45                 126                      28\n",
              "197         198    Male   32                 126                      74\n",
              "198         199    Male   32                 137                      18\n",
              "199         200    Male   30                 137                      83\n",
              "\n",
              "[200 rows x 5 columns]"
            ],
            "text/html": [
              "\n",
              "\n",
              "  <div id=\"df-a525ce43-cd67-44c5-b51f-208b1146f889\">\n",
              "    <div class=\"colab-df-container\">\n",
              "      <div>\n",
              "<style scoped>\n",
              "    .dataframe tbody tr th:only-of-type {\n",
              "        vertical-align: middle;\n",
              "    }\n",
              "\n",
              "    .dataframe tbody tr th {\n",
              "        vertical-align: top;\n",
              "    }\n",
              "\n",
              "    .dataframe thead th {\n",
              "        text-align: right;\n",
              "    }\n",
              "</style>\n",
              "<table border=\"1\" class=\"dataframe\">\n",
              "  <thead>\n",
              "    <tr style=\"text-align: right;\">\n",
              "      <th></th>\n",
              "      <th>CustomerID</th>\n",
              "      <th>Gender</th>\n",
              "      <th>Age</th>\n",
              "      <th>Annual Income (k$)</th>\n",
              "      <th>Spending Score (1-100)</th>\n",
              "    </tr>\n",
              "  </thead>\n",
              "  <tbody>\n",
              "    <tr>\n",
              "      <th>0</th>\n",
              "      <td>1</td>\n",
              "      <td>Male</td>\n",
              "      <td>19</td>\n",
              "      <td>15</td>\n",
              "      <td>39</td>\n",
              "    </tr>\n",
              "    <tr>\n",
              "      <th>1</th>\n",
              "      <td>2</td>\n",
              "      <td>Male</td>\n",
              "      <td>21</td>\n",
              "      <td>15</td>\n",
              "      <td>81</td>\n",
              "    </tr>\n",
              "    <tr>\n",
              "      <th>2</th>\n",
              "      <td>3</td>\n",
              "      <td>Female</td>\n",
              "      <td>20</td>\n",
              "      <td>16</td>\n",
              "      <td>6</td>\n",
              "    </tr>\n",
              "    <tr>\n",
              "      <th>3</th>\n",
              "      <td>4</td>\n",
              "      <td>Female</td>\n",
              "      <td>23</td>\n",
              "      <td>16</td>\n",
              "      <td>77</td>\n",
              "    </tr>\n",
              "    <tr>\n",
              "      <th>4</th>\n",
              "      <td>5</td>\n",
              "      <td>Female</td>\n",
              "      <td>31</td>\n",
              "      <td>17</td>\n",
              "      <td>40</td>\n",
              "    </tr>\n",
              "    <tr>\n",
              "      <th>...</th>\n",
              "      <td>...</td>\n",
              "      <td>...</td>\n",
              "      <td>...</td>\n",
              "      <td>...</td>\n",
              "      <td>...</td>\n",
              "    </tr>\n",
              "    <tr>\n",
              "      <th>195</th>\n",
              "      <td>196</td>\n",
              "      <td>Female</td>\n",
              "      <td>35</td>\n",
              "      <td>120</td>\n",
              "      <td>79</td>\n",
              "    </tr>\n",
              "    <tr>\n",
              "      <th>196</th>\n",
              "      <td>197</td>\n",
              "      <td>Female</td>\n",
              "      <td>45</td>\n",
              "      <td>126</td>\n",
              "      <td>28</td>\n",
              "    </tr>\n",
              "    <tr>\n",
              "      <th>197</th>\n",
              "      <td>198</td>\n",
              "      <td>Male</td>\n",
              "      <td>32</td>\n",
              "      <td>126</td>\n",
              "      <td>74</td>\n",
              "    </tr>\n",
              "    <tr>\n",
              "      <th>198</th>\n",
              "      <td>199</td>\n",
              "      <td>Male</td>\n",
              "      <td>32</td>\n",
              "      <td>137</td>\n",
              "      <td>18</td>\n",
              "    </tr>\n",
              "    <tr>\n",
              "      <th>199</th>\n",
              "      <td>200</td>\n",
              "      <td>Male</td>\n",
              "      <td>30</td>\n",
              "      <td>137</td>\n",
              "      <td>83</td>\n",
              "    </tr>\n",
              "  </tbody>\n",
              "</table>\n",
              "<p>200 rows × 5 columns</p>\n",
              "</div>\n",
              "      <button class=\"colab-df-convert\" onclick=\"convertToInteractive('df-a525ce43-cd67-44c5-b51f-208b1146f889')\"\n",
              "              title=\"Convert this dataframe to an interactive table.\"\n",
              "              style=\"display:none;\">\n",
              "\n",
              "  <svg xmlns=\"http://www.w3.org/2000/svg\" height=\"24px\"viewBox=\"0 0 24 24\"\n",
              "       width=\"24px\">\n",
              "    <path d=\"M0 0h24v24H0V0z\" fill=\"none\"/>\n",
              "    <path d=\"M18.56 5.44l.94 2.06.94-2.06 2.06-.94-2.06-.94-.94-2.06-.94 2.06-2.06.94zm-11 1L8.5 8.5l.94-2.06 2.06-.94-2.06-.94L8.5 2.5l-.94 2.06-2.06.94zm10 10l.94 2.06.94-2.06 2.06-.94-2.06-.94-.94-2.06-.94 2.06-2.06.94z\"/><path d=\"M17.41 7.96l-1.37-1.37c-.4-.4-.92-.59-1.43-.59-.52 0-1.04.2-1.43.59L10.3 9.45l-7.72 7.72c-.78.78-.78 2.05 0 2.83L4 21.41c.39.39.9.59 1.41.59.51 0 1.02-.2 1.41-.59l7.78-7.78 2.81-2.81c.8-.78.8-2.07 0-2.86zM5.41 20L4 18.59l7.72-7.72 1.47 1.35L5.41 20z\"/>\n",
              "  </svg>\n",
              "      </button>\n",
              "\n",
              "\n",
              "\n",
              "    <div id=\"df-89060ec2-462b-457c-8df4-c96220109353\">\n",
              "      <button class=\"colab-df-quickchart\" onclick=\"quickchart('df-89060ec2-462b-457c-8df4-c96220109353')\"\n",
              "              title=\"Suggest charts.\"\n",
              "              style=\"display:none;\">\n",
              "\n",
              "<svg xmlns=\"http://www.w3.org/2000/svg\" height=\"24px\"viewBox=\"0 0 24 24\"\n",
              "     width=\"24px\">\n",
              "    <g>\n",
              "        <path d=\"M19 3H5c-1.1 0-2 .9-2 2v14c0 1.1.9 2 2 2h14c1.1 0 2-.9 2-2V5c0-1.1-.9-2-2-2zM9 17H7v-7h2v7zm4 0h-2V7h2v10zm4 0h-2v-4h2v4z\"/>\n",
              "    </g>\n",
              "</svg>\n",
              "      </button>\n",
              "    </div>\n",
              "\n",
              "<style>\n",
              "  .colab-df-quickchart {\n",
              "    background-color: #E8F0FE;\n",
              "    border: none;\n",
              "    border-radius: 50%;\n",
              "    cursor: pointer;\n",
              "    display: none;\n",
              "    fill: #1967D2;\n",
              "    height: 32px;\n",
              "    padding: 0 0 0 0;\n",
              "    width: 32px;\n",
              "  }\n",
              "\n",
              "  .colab-df-quickchart:hover {\n",
              "    background-color: #E2EBFA;\n",
              "    box-shadow: 0px 1px 2px rgba(60, 64, 67, 0.3), 0px 1px 3px 1px rgba(60, 64, 67, 0.15);\n",
              "    fill: #174EA6;\n",
              "  }\n",
              "\n",
              "  [theme=dark] .colab-df-quickchart {\n",
              "    background-color: #3B4455;\n",
              "    fill: #D2E3FC;\n",
              "  }\n",
              "\n",
              "  [theme=dark] .colab-df-quickchart:hover {\n",
              "    background-color: #434B5C;\n",
              "    box-shadow: 0px 1px 3px 1px rgba(0, 0, 0, 0.15);\n",
              "    filter: drop-shadow(0px 1px 2px rgba(0, 0, 0, 0.3));\n",
              "    fill: #FFFFFF;\n",
              "  }\n",
              "</style>\n",
              "\n",
              "    <script>\n",
              "      async function quickchart(key) {\n",
              "        const containerElement = document.querySelector('#' + key);\n",
              "        const charts = await google.colab.kernel.invokeFunction(\n",
              "            'suggestCharts', [key], {});\n",
              "      }\n",
              "    </script>\n",
              "\n",
              "      <script>\n",
              "\n",
              "function displayQuickchartButton(domScope) {\n",
              "  let quickchartButtonEl =\n",
              "    domScope.querySelector('#df-89060ec2-462b-457c-8df4-c96220109353 button.colab-df-quickchart');\n",
              "  quickchartButtonEl.style.display =\n",
              "    google.colab.kernel.accessAllowed ? 'block' : 'none';\n",
              "}\n",
              "\n",
              "        displayQuickchartButton(document);\n",
              "      </script>\n",
              "      <style>\n",
              "    .colab-df-container {\n",
              "      display:flex;\n",
              "      flex-wrap:wrap;\n",
              "      gap: 12px;\n",
              "    }\n",
              "\n",
              "    .colab-df-convert {\n",
              "      background-color: #E8F0FE;\n",
              "      border: none;\n",
              "      border-radius: 50%;\n",
              "      cursor: pointer;\n",
              "      display: none;\n",
              "      fill: #1967D2;\n",
              "      height: 32px;\n",
              "      padding: 0 0 0 0;\n",
              "      width: 32px;\n",
              "    }\n",
              "\n",
              "    .colab-df-convert:hover {\n",
              "      background-color: #E2EBFA;\n",
              "      box-shadow: 0px 1px 2px rgba(60, 64, 67, 0.3), 0px 1px 3px 1px rgba(60, 64, 67, 0.15);\n",
              "      fill: #174EA6;\n",
              "    }\n",
              "\n",
              "    [theme=dark] .colab-df-convert {\n",
              "      background-color: #3B4455;\n",
              "      fill: #D2E3FC;\n",
              "    }\n",
              "\n",
              "    [theme=dark] .colab-df-convert:hover {\n",
              "      background-color: #434B5C;\n",
              "      box-shadow: 0px 1px 3px 1px rgba(0, 0, 0, 0.15);\n",
              "      filter: drop-shadow(0px 1px 2px rgba(0, 0, 0, 0.3));\n",
              "      fill: #FFFFFF;\n",
              "    }\n",
              "  </style>\n",
              "\n",
              "      <script>\n",
              "        const buttonEl =\n",
              "          document.querySelector('#df-a525ce43-cd67-44c5-b51f-208b1146f889 button.colab-df-convert');\n",
              "        buttonEl.style.display =\n",
              "          google.colab.kernel.accessAllowed ? 'block' : 'none';\n",
              "\n",
              "        async function convertToInteractive(key) {\n",
              "          const element = document.querySelector('#df-a525ce43-cd67-44c5-b51f-208b1146f889');\n",
              "          const dataTable =\n",
              "            await google.colab.kernel.invokeFunction('convertToInteractive',\n",
              "                                                     [key], {});\n",
              "          if (!dataTable) return;\n",
              "\n",
              "          const docLinkHtml = 'Like what you see? Visit the ' +\n",
              "            '<a target=\"_blank\" href=https://colab.research.google.com/notebooks/data_table.ipynb>data table notebook</a>'\n",
              "            + ' to learn more about interactive tables.';\n",
              "          element.innerHTML = '';\n",
              "          dataTable['output_type'] = 'display_data';\n",
              "          await google.colab.output.renderOutput(dataTable, element);\n",
              "          const docLink = document.createElement('div');\n",
              "          docLink.innerHTML = docLinkHtml;\n",
              "          element.appendChild(docLink);\n",
              "        }\n",
              "      </script>\n",
              "    </div>\n",
              "  </div>\n"
            ]
          },
          "metadata": {},
          "execution_count": 110
        }
      ]
    },
    {
      "cell_type": "code",
      "source": [
        "df1 = df.copy()"
      ],
      "metadata": {
        "id": "kl5HhJvSUkPN"
      },
      "execution_count": 111,
      "outputs": []
    },
    {
      "cell_type": "markdown",
      "source": [
        "### Checking null values"
      ],
      "metadata": {
        "id": "VGH_a9oHsrJs"
      }
    },
    {
      "cell_type": "code",
      "source": [
        "df1.isnull().sum()"
      ],
      "metadata": {
        "colab": {
          "base_uri": "https://localhost:8080/"
        },
        "id": "uhqtImjoU4EA",
        "outputId": "7e2d4736-fa2c-4f5e-91a0-8485c705dbaf"
      },
      "execution_count": 116,
      "outputs": [
        {
          "output_type": "execute_result",
          "data": {
            "text/plain": [
              "CustomerID                0\n",
              "Gender                    0\n",
              "Age                       0\n",
              "Annual Income (k$)        0\n",
              "Spending Score (1-100)    0\n",
              "dtype: int64"
            ]
          },
          "metadata": {},
          "execution_count": 116
        }
      ]
    },
    {
      "cell_type": "markdown",
      "source": [
        "### Remove Duplicates"
      ],
      "metadata": {
        "id": "hdkfjYglstW1"
      }
    },
    {
      "cell_type": "code",
      "source": [
        "df1 = df1.drop_duplicates()"
      ],
      "metadata": {
        "id": "_gcVnGCJU53p"
      },
      "execution_count": 117,
      "outputs": []
    },
    {
      "cell_type": "code",
      "source": [
        "df1.shape"
      ],
      "metadata": {
        "colab": {
          "base_uri": "https://localhost:8080/"
        },
        "id": "uS-96AKQU9Ez",
        "outputId": "6b8a99ce-d81a-458f-b3e6-5147c30dc5fb"
      },
      "execution_count": 118,
      "outputs": [
        {
          "output_type": "execute_result",
          "data": {
            "text/plain": [
              "(200, 5)"
            ]
          },
          "metadata": {},
          "execution_count": 118
        }
      ]
    },
    {
      "cell_type": "code",
      "source": [
        "df1.info()"
      ],
      "metadata": {
        "colab": {
          "base_uri": "https://localhost:8080/"
        },
        "id": "aVIn8CpiU-J6",
        "outputId": "2049c3dc-c657-4b24-84de-7052776601c7"
      },
      "execution_count": 119,
      "outputs": [
        {
          "output_type": "stream",
          "name": "stdout",
          "text": [
            "<class 'pandas.core.frame.DataFrame'>\n",
            "Int64Index: 200 entries, 0 to 199\n",
            "Data columns (total 5 columns):\n",
            " #   Column                  Non-Null Count  Dtype \n",
            "---  ------                  --------------  ----- \n",
            " 0   CustomerID              200 non-null    int64 \n",
            " 1   Gender                  200 non-null    object\n",
            " 2   Age                     200 non-null    int64 \n",
            " 3   Annual Income (k$)      200 non-null    int64 \n",
            " 4   Spending Score (1-100)  200 non-null    int64 \n",
            "dtypes: int64(4), object(1)\n",
            "memory usage: 9.4+ KB\n"
          ]
        }
      ]
    },
    {
      "cell_type": "code",
      "source": [
        "df1['Gender'].value_counts()"
      ],
      "metadata": {
        "colab": {
          "base_uri": "https://localhost:8080/"
        },
        "id": "TJ6Ty_qAVIrn",
        "outputId": "a51094cd-7649-423e-f8ec-fe7efb520c55"
      },
      "execution_count": 120,
      "outputs": [
        {
          "output_type": "execute_result",
          "data": {
            "text/plain": [
              "Female    112\n",
              "Male       88\n",
              "Name: Gender, dtype: int64"
            ]
          },
          "metadata": {},
          "execution_count": 120
        }
      ]
    },
    {
      "cell_type": "markdown",
      "source": [
        "### Encoding the categorical data"
      ],
      "metadata": {
        "id": "RPX_RAKIswYM"
      }
    },
    {
      "cell_type": "code",
      "source": [
        "df1['Gender'] = df1['Gender'].map({'Male':1, 'Female':0})"
      ],
      "metadata": {
        "id": "YuhUzYt4VNeV"
      },
      "execution_count": 121,
      "outputs": []
    },
    {
      "cell_type": "code",
      "source": [
        "df1.dtypes"
      ],
      "metadata": {
        "colab": {
          "base_uri": "https://localhost:8080/"
        },
        "id": "Tdnk7WLdVmVG",
        "outputId": "5f87faba-c900-4082-8850-fc9f2114e5b6"
      },
      "execution_count": 122,
      "outputs": [
        {
          "output_type": "execute_result",
          "data": {
            "text/plain": [
              "CustomerID                int64\n",
              "Gender                    int64\n",
              "Age                       int64\n",
              "Annual Income (k$)        int64\n",
              "Spending Score (1-100)    int64\n",
              "dtype: object"
            ]
          },
          "metadata": {},
          "execution_count": 122
        }
      ]
    },
    {
      "cell_type": "code",
      "source": [
        "df1.describe()"
      ],
      "metadata": {
        "colab": {
          "base_uri": "https://localhost:8080/",
          "height": 300
        },
        "id": "9ZwxS8PbVoIw",
        "outputId": "447b877f-f36c-40b1-955d-e42f1cd0de9a"
      },
      "execution_count": 123,
      "outputs": [
        {
          "output_type": "execute_result",
          "data": {
            "text/plain": [
              "       CustomerID      Gender         Age  Annual Income (k$)  \\\n",
              "count  200.000000  200.000000  200.000000          200.000000   \n",
              "mean   100.500000    0.440000   38.850000           60.560000   \n",
              "std     57.879185    0.497633   13.969007           26.264721   \n",
              "min      1.000000    0.000000   18.000000           15.000000   \n",
              "25%     50.750000    0.000000   28.750000           41.500000   \n",
              "50%    100.500000    0.000000   36.000000           61.500000   \n",
              "75%    150.250000    1.000000   49.000000           78.000000   \n",
              "max    200.000000    1.000000   70.000000          137.000000   \n",
              "\n",
              "       Spending Score (1-100)  \n",
              "count              200.000000  \n",
              "mean                50.200000  \n",
              "std                 25.823522  \n",
              "min                  1.000000  \n",
              "25%                 34.750000  \n",
              "50%                 50.000000  \n",
              "75%                 73.000000  \n",
              "max                 99.000000  "
            ],
            "text/html": [
              "\n",
              "\n",
              "  <div id=\"df-13e9d986-63c1-4303-8e73-dc433f00ac04\">\n",
              "    <div class=\"colab-df-container\">\n",
              "      <div>\n",
              "<style scoped>\n",
              "    .dataframe tbody tr th:only-of-type {\n",
              "        vertical-align: middle;\n",
              "    }\n",
              "\n",
              "    .dataframe tbody tr th {\n",
              "        vertical-align: top;\n",
              "    }\n",
              "\n",
              "    .dataframe thead th {\n",
              "        text-align: right;\n",
              "    }\n",
              "</style>\n",
              "<table border=\"1\" class=\"dataframe\">\n",
              "  <thead>\n",
              "    <tr style=\"text-align: right;\">\n",
              "      <th></th>\n",
              "      <th>CustomerID</th>\n",
              "      <th>Gender</th>\n",
              "      <th>Age</th>\n",
              "      <th>Annual Income (k$)</th>\n",
              "      <th>Spending Score (1-100)</th>\n",
              "    </tr>\n",
              "  </thead>\n",
              "  <tbody>\n",
              "    <tr>\n",
              "      <th>count</th>\n",
              "      <td>200.000000</td>\n",
              "      <td>200.000000</td>\n",
              "      <td>200.000000</td>\n",
              "      <td>200.000000</td>\n",
              "      <td>200.000000</td>\n",
              "    </tr>\n",
              "    <tr>\n",
              "      <th>mean</th>\n",
              "      <td>100.500000</td>\n",
              "      <td>0.440000</td>\n",
              "      <td>38.850000</td>\n",
              "      <td>60.560000</td>\n",
              "      <td>50.200000</td>\n",
              "    </tr>\n",
              "    <tr>\n",
              "      <th>std</th>\n",
              "      <td>57.879185</td>\n",
              "      <td>0.497633</td>\n",
              "      <td>13.969007</td>\n",
              "      <td>26.264721</td>\n",
              "      <td>25.823522</td>\n",
              "    </tr>\n",
              "    <tr>\n",
              "      <th>min</th>\n",
              "      <td>1.000000</td>\n",
              "      <td>0.000000</td>\n",
              "      <td>18.000000</td>\n",
              "      <td>15.000000</td>\n",
              "      <td>1.000000</td>\n",
              "    </tr>\n",
              "    <tr>\n",
              "      <th>25%</th>\n",
              "      <td>50.750000</td>\n",
              "      <td>0.000000</td>\n",
              "      <td>28.750000</td>\n",
              "      <td>41.500000</td>\n",
              "      <td>34.750000</td>\n",
              "    </tr>\n",
              "    <tr>\n",
              "      <th>50%</th>\n",
              "      <td>100.500000</td>\n",
              "      <td>0.000000</td>\n",
              "      <td>36.000000</td>\n",
              "      <td>61.500000</td>\n",
              "      <td>50.000000</td>\n",
              "    </tr>\n",
              "    <tr>\n",
              "      <th>75%</th>\n",
              "      <td>150.250000</td>\n",
              "      <td>1.000000</td>\n",
              "      <td>49.000000</td>\n",
              "      <td>78.000000</td>\n",
              "      <td>73.000000</td>\n",
              "    </tr>\n",
              "    <tr>\n",
              "      <th>max</th>\n",
              "      <td>200.000000</td>\n",
              "      <td>1.000000</td>\n",
              "      <td>70.000000</td>\n",
              "      <td>137.000000</td>\n",
              "      <td>99.000000</td>\n",
              "    </tr>\n",
              "  </tbody>\n",
              "</table>\n",
              "</div>\n",
              "      <button class=\"colab-df-convert\" onclick=\"convertToInteractive('df-13e9d986-63c1-4303-8e73-dc433f00ac04')\"\n",
              "              title=\"Convert this dataframe to an interactive table.\"\n",
              "              style=\"display:none;\">\n",
              "\n",
              "  <svg xmlns=\"http://www.w3.org/2000/svg\" height=\"24px\"viewBox=\"0 0 24 24\"\n",
              "       width=\"24px\">\n",
              "    <path d=\"M0 0h24v24H0V0z\" fill=\"none\"/>\n",
              "    <path d=\"M18.56 5.44l.94 2.06.94-2.06 2.06-.94-2.06-.94-.94-2.06-.94 2.06-2.06.94zm-11 1L8.5 8.5l.94-2.06 2.06-.94-2.06-.94L8.5 2.5l-.94 2.06-2.06.94zm10 10l.94 2.06.94-2.06 2.06-.94-2.06-.94-.94-2.06-.94 2.06-2.06.94z\"/><path d=\"M17.41 7.96l-1.37-1.37c-.4-.4-.92-.59-1.43-.59-.52 0-1.04.2-1.43.59L10.3 9.45l-7.72 7.72c-.78.78-.78 2.05 0 2.83L4 21.41c.39.39.9.59 1.41.59.51 0 1.02-.2 1.41-.59l7.78-7.78 2.81-2.81c.8-.78.8-2.07 0-2.86zM5.41 20L4 18.59l7.72-7.72 1.47 1.35L5.41 20z\"/>\n",
              "  </svg>\n",
              "      </button>\n",
              "\n",
              "\n",
              "\n",
              "    <div id=\"df-5dd18213-6c5c-40ef-bea4-341c7a0ac3b1\">\n",
              "      <button class=\"colab-df-quickchart\" onclick=\"quickchart('df-5dd18213-6c5c-40ef-bea4-341c7a0ac3b1')\"\n",
              "              title=\"Suggest charts.\"\n",
              "              style=\"display:none;\">\n",
              "\n",
              "<svg xmlns=\"http://www.w3.org/2000/svg\" height=\"24px\"viewBox=\"0 0 24 24\"\n",
              "     width=\"24px\">\n",
              "    <g>\n",
              "        <path d=\"M19 3H5c-1.1 0-2 .9-2 2v14c0 1.1.9 2 2 2h14c1.1 0 2-.9 2-2V5c0-1.1-.9-2-2-2zM9 17H7v-7h2v7zm4 0h-2V7h2v10zm4 0h-2v-4h2v4z\"/>\n",
              "    </g>\n",
              "</svg>\n",
              "      </button>\n",
              "    </div>\n",
              "\n",
              "<style>\n",
              "  .colab-df-quickchart {\n",
              "    background-color: #E8F0FE;\n",
              "    border: none;\n",
              "    border-radius: 50%;\n",
              "    cursor: pointer;\n",
              "    display: none;\n",
              "    fill: #1967D2;\n",
              "    height: 32px;\n",
              "    padding: 0 0 0 0;\n",
              "    width: 32px;\n",
              "  }\n",
              "\n",
              "  .colab-df-quickchart:hover {\n",
              "    background-color: #E2EBFA;\n",
              "    box-shadow: 0px 1px 2px rgba(60, 64, 67, 0.3), 0px 1px 3px 1px rgba(60, 64, 67, 0.15);\n",
              "    fill: #174EA6;\n",
              "  }\n",
              "\n",
              "  [theme=dark] .colab-df-quickchart {\n",
              "    background-color: #3B4455;\n",
              "    fill: #D2E3FC;\n",
              "  }\n",
              "\n",
              "  [theme=dark] .colab-df-quickchart:hover {\n",
              "    background-color: #434B5C;\n",
              "    box-shadow: 0px 1px 3px 1px rgba(0, 0, 0, 0.15);\n",
              "    filter: drop-shadow(0px 1px 2px rgba(0, 0, 0, 0.3));\n",
              "    fill: #FFFFFF;\n",
              "  }\n",
              "</style>\n",
              "\n",
              "    <script>\n",
              "      async function quickchart(key) {\n",
              "        const containerElement = document.querySelector('#' + key);\n",
              "        const charts = await google.colab.kernel.invokeFunction(\n",
              "            'suggestCharts', [key], {});\n",
              "      }\n",
              "    </script>\n",
              "\n",
              "      <script>\n",
              "\n",
              "function displayQuickchartButton(domScope) {\n",
              "  let quickchartButtonEl =\n",
              "    domScope.querySelector('#df-5dd18213-6c5c-40ef-bea4-341c7a0ac3b1 button.colab-df-quickchart');\n",
              "  quickchartButtonEl.style.display =\n",
              "    google.colab.kernel.accessAllowed ? 'block' : 'none';\n",
              "}\n",
              "\n",
              "        displayQuickchartButton(document);\n",
              "      </script>\n",
              "      <style>\n",
              "    .colab-df-container {\n",
              "      display:flex;\n",
              "      flex-wrap:wrap;\n",
              "      gap: 12px;\n",
              "    }\n",
              "\n",
              "    .colab-df-convert {\n",
              "      background-color: #E8F0FE;\n",
              "      border: none;\n",
              "      border-radius: 50%;\n",
              "      cursor: pointer;\n",
              "      display: none;\n",
              "      fill: #1967D2;\n",
              "      height: 32px;\n",
              "      padding: 0 0 0 0;\n",
              "      width: 32px;\n",
              "    }\n",
              "\n",
              "    .colab-df-convert:hover {\n",
              "      background-color: #E2EBFA;\n",
              "      box-shadow: 0px 1px 2px rgba(60, 64, 67, 0.3), 0px 1px 3px 1px rgba(60, 64, 67, 0.15);\n",
              "      fill: #174EA6;\n",
              "    }\n",
              "\n",
              "    [theme=dark] .colab-df-convert {\n",
              "      background-color: #3B4455;\n",
              "      fill: #D2E3FC;\n",
              "    }\n",
              "\n",
              "    [theme=dark] .colab-df-convert:hover {\n",
              "      background-color: #434B5C;\n",
              "      box-shadow: 0px 1px 3px 1px rgba(0, 0, 0, 0.15);\n",
              "      filter: drop-shadow(0px 1px 2px rgba(0, 0, 0, 0.3));\n",
              "      fill: #FFFFFF;\n",
              "    }\n",
              "  </style>\n",
              "\n",
              "      <script>\n",
              "        const buttonEl =\n",
              "          document.querySelector('#df-13e9d986-63c1-4303-8e73-dc433f00ac04 button.colab-df-convert');\n",
              "        buttonEl.style.display =\n",
              "          google.colab.kernel.accessAllowed ? 'block' : 'none';\n",
              "\n",
              "        async function convertToInteractive(key) {\n",
              "          const element = document.querySelector('#df-13e9d986-63c1-4303-8e73-dc433f00ac04');\n",
              "          const dataTable =\n",
              "            await google.colab.kernel.invokeFunction('convertToInteractive',\n",
              "                                                     [key], {});\n",
              "          if (!dataTable) return;\n",
              "\n",
              "          const docLinkHtml = 'Like what you see? Visit the ' +\n",
              "            '<a target=\"_blank\" href=https://colab.research.google.com/notebooks/data_table.ipynb>data table notebook</a>'\n",
              "            + ' to learn more about interactive tables.';\n",
              "          element.innerHTML = '';\n",
              "          dataTable['output_type'] = 'display_data';\n",
              "          await google.colab.output.renderOutput(dataTable, element);\n",
              "          const docLink = document.createElement('div');\n",
              "          docLink.innerHTML = docLinkHtml;\n",
              "          element.appendChild(docLink);\n",
              "        }\n",
              "      </script>\n",
              "    </div>\n",
              "  </div>\n"
            ]
          },
          "metadata": {},
          "execution_count": 123
        }
      ]
    },
    {
      "cell_type": "markdown",
      "source": [
        "### Checking the Outliers"
      ],
      "metadata": {
        "id": "jVjiMYTgs0gw"
      }
    },
    {
      "cell_type": "code",
      "source": [
        "q1 = df1.quantile(0.25)\n",
        "q3 = df1.quantile(0.75)\n",
        "iqr = q3 - q1\n",
        "\n",
        "((df1<(q1-(1.5*iqr)))|(df1>(q3+(1.5*iqr)))).sum()"
      ],
      "metadata": {
        "colab": {
          "base_uri": "https://localhost:8080/"
        },
        "id": "56AMkuY2Vvgk",
        "outputId": "4bf139f9-242a-4769-cd11-d20f7a2f8608"
      },
      "execution_count": 124,
      "outputs": [
        {
          "output_type": "execute_result",
          "data": {
            "text/plain": [
              "CustomerID                0\n",
              "Gender                    0\n",
              "Age                       0\n",
              "Annual Income (k$)        2\n",
              "Spending Score (1-100)    0\n",
              "dtype: int64"
            ]
          },
          "metadata": {},
          "execution_count": 124
        }
      ]
    },
    {
      "cell_type": "code",
      "source": [
        "df2 = df1.drop('CustomerID', axis=1)"
      ],
      "metadata": {
        "id": "EDh2sUm5XhV-"
      },
      "execution_count": 125,
      "outputs": []
    },
    {
      "cell_type": "code",
      "source": [
        "plt.boxplot(data=df2, x='Annual Income (k$)')"
      ],
      "metadata": {
        "colab": {
          "base_uri": "https://localhost:8080/",
          "height": 623
        },
        "id": "1fSr43xPXZOj",
        "outputId": "f7085b4a-8abf-4570-841b-393ff00eaabe"
      },
      "execution_count": 126,
      "outputs": [
        {
          "output_type": "execute_result",
          "data": {
            "text/plain": [
              "{'whiskers': [<matplotlib.lines.Line2D at 0x7ce18f75ff10>,\n",
              "  <matplotlib.lines.Line2D at 0x7ce18f628af0>],\n",
              " 'caps': [<matplotlib.lines.Line2D at 0x7ce18f628820>,\n",
              "  <matplotlib.lines.Line2D at 0x7ce18f629d80>],\n",
              " 'boxes': [<matplotlib.lines.Line2D at 0x7ce18f75fc70>],\n",
              " 'medians': [<matplotlib.lines.Line2D at 0x7ce18f629fc0>],\n",
              " 'fliers': [<matplotlib.lines.Line2D at 0x7ce18f62a680>],\n",
              " 'means': []}"
            ]
          },
          "metadata": {},
          "execution_count": 126
        },
        {
          "output_type": "display_data",
          "data": {
            "text/plain": [
              "<Figure size 800x550 with 1 Axes>"
            ],
            "image/png": "[encoded data removed]"
          },
          "metadata": {}
        }
      ]
    },
    {
      "cell_type": "code",
      "source": [
        "q1, q3"
      ],
      "metadata": {
        "colab": {
          "base_uri": "https://localhost:8080/"
        },
        "id": "eDG1-9hyWsr0",
        "outputId": "3646c119-438e-4b7d-e474-0578451b4b9f"
      },
      "execution_count": 127,
      "outputs": [
        {
          "output_type": "execute_result",
          "data": {
            "text/plain": [
              "(CustomerID                50.75\n",
              " Gender                     0.00\n",
              " Age                       28.75\n",
              " Annual Income (k$)        41.50\n",
              " Spending Score (1-100)    34.75\n",
              " Name: 0.25, dtype: float64,\n",
              " CustomerID                150.25\n",
              " Gender                      1.00\n",
              " Age                        49.00\n",
              " Annual Income (k$)         78.00\n",
              " Spending Score (1-100)     73.00\n",
              " Name: 0.75, dtype: float64)"
            ]
          },
          "metadata": {},
          "execution_count": 127
        }
      ]
    },
    {
      "cell_type": "code",
      "source": [
        "lt = q1-(1.5*iqr)\n",
        "ht = q3+(1.5*iqr)\n",
        "\n",
        "print(lt, ht)"
      ],
      "metadata": {
        "colab": {
          "base_uri": "https://localhost:8080/"
        },
        "id": "IYgRIXDCWseM",
        "outputId": "91ff0574-7d4b-41bc-d386-520b66c2030f"
      },
      "execution_count": 128,
      "outputs": [
        {
          "output_type": "stream",
          "name": "stdout",
          "text": [
            "CustomerID               -98.500\n",
            "Gender                    -1.500\n",
            "Age                       -1.625\n",
            "Annual Income (k$)       -13.250\n",
            "Spending Score (1-100)   -22.625\n",
            "dtype: float64 CustomerID                299.500\n",
            "Gender                      2.500\n",
            "Age                        79.375\n",
            "Annual Income (k$)        132.750\n",
            "Spending Score (1-100)    130.375\n",
            "dtype: float64\n"
          ]
        }
      ]
    },
    {
      "cell_type": "code",
      "source": [
        "print(sorted(df2.iloc[:,2].values))"
      ],
      "metadata": {
        "colab": {
          "base_uri": "https://localhost:8080/"
        },
        "id": "PHRH0KQmWJ0x",
        "outputId": "f6dfc304-3170-41ee-9af7-d9c4e0678097"
      },
      "execution_count": 129,
      "outputs": [
        {
          "output_type": "stream",
          "name": "stdout",
          "text": [
            "[15, 15, 16, 16, 17, 17, 18, 18, 19, 19, 19, 19, 20, 20, 20, 20, 21, 21, 23, 23, 24, 24, 25, 25, 28, 28, 28, 28, 29, 29, 30, 30, 33, 33, 33, 33, 34, 34, 37, 37, 38, 38, 39, 39, 39, 39, 40, 40, 40, 40, 42, 42, 43, 43, 43, 43, 44, 44, 46, 46, 46, 46, 47, 47, 48, 48, 48, 48, 48, 48, 49, 49, 50, 50, 54, 54, 54, 54, 54, 54, 54, 54, 54, 54, 54, 54, 57, 57, 58, 58, 59, 59, 60, 60, 60, 60, 60, 60, 61, 61, 62, 62, 62, 62, 62, 62, 63, 63, 63, 63, 63, 63, 64, 64, 65, 65, 65, 65, 67, 67, 67, 67, 69, 69, 70, 70, 71, 71, 71, 71, 71, 71, 72, 72, 73, 73, 73, 73, 74, 74, 75, 75, 76, 76, 77, 77, 77, 77, 78, 78, 78, 78, 78, 78, 78, 78, 78, 78, 78, 78, 79, 79, 81, 81, 85, 85, 86, 86, 87, 87, 87, 87, 87, 87, 88, 88, 88, 88, 93, 93, 97, 97, 98, 98, 99, 99, 101, 101, 103, 103, 103, 103, 113, 113, 120, 120, 126, 126, 137, 137]\n"
          ]
        }
      ]
    },
    {
      "cell_type": "markdown",
      "source": [
        "### In here, we clip the outliers"
      ],
      "metadata": {
        "id": "xoKKpvyCs6Vk"
      }
    },
    {
      "cell_type": "code",
      "source": [
        "df2['Annual Income (k$)'] = df2['Annual Income (k$)'].clip(41.5, 126)"
      ],
      "metadata": {
        "id": "eCgdpwtzWalo"
      },
      "execution_count": 130,
      "outputs": []
    },
    {
      "cell_type": "code",
      "source": [
        "q1 = df2.quantile(0.25)\n",
        "q3 = df2.quantile(0.75)\n",
        "iqr = q3 - q1\n",
        "\n",
        "((df2<(q1-(1.5*iqr)))|(df2>(q3+(1.5*iqr)))).sum()"
      ],
      "metadata": {
        "colab": {
          "base_uri": "https://localhost:8080/"
        },
        "id": "5DkRRTbAYLAl",
        "outputId": "fece3a2c-cecb-41d5-97df-c8882db32c8f"
      },
      "execution_count": 131,
      "outputs": [
        {
          "output_type": "execute_result",
          "data": {
            "text/plain": [
              "Gender                    0\n",
              "Age                       0\n",
              "Annual Income (k$)        0\n",
              "Spending Score (1-100)    0\n",
              "dtype: int64"
            ]
          },
          "metadata": {},
          "execution_count": 131
        }
      ]
    },
    {
      "cell_type": "code",
      "source": [
        "plt.boxplot(data=df2, x='Annual Income (k$)')"
      ],
      "metadata": {
        "colab": {
          "base_uri": "https://localhost:8080/",
          "height": 623
        },
        "id": "2DlRArmXYQzP",
        "outputId": "e8080117-6c93-405e-b6d7-51408bf7499a"
      },
      "execution_count": 132,
      "outputs": [
        {
          "output_type": "execute_result",
          "data": {
            "text/plain": [
              "{'whiskers': [<matplotlib.lines.Line2D at 0x7ce18f6e3640>,\n",
              "  <matplotlib.lines.Line2D at 0x7ce18f6e38e0>],\n",
              " 'caps': [<matplotlib.lines.Line2D at 0x7ce18f6e3b80>,\n",
              "  <matplotlib.lines.Line2D at 0x7ce18f6e3e20>],\n",
              " 'boxes': [<matplotlib.lines.Line2D at 0x7ce18f6e33a0>],\n",
              " 'medians': [<matplotlib.lines.Line2D at 0x7ce18f694100>],\n",
              " 'fliers': [<matplotlib.lines.Line2D at 0x7ce18f6943a0>],\n",
              " 'means': []}"
            ]
          },
          "metadata": {},
          "execution_count": 132
        },
        {
          "output_type": "display_data",
          "data": {
            "text/plain": [
              "<Figure size 800x550 with 1 Axes>"
            ],
            "image/png": "[encoded data removed]"
          },
          "metadata": {}
        }
      ]
    },
    {
      "cell_type": "markdown",
      "source": [
        "### Scalling the Data\n",
        "\n",
        "### Because, it deals with distance"
      ],
      "metadata": {
        "id": "dnqkf9_wtAtX"
      }
    },
    {
      "cell_type": "code",
      "source": [
        "ss = StandardScaler()\n",
        "\n",
        "x_std = ss.fit_transform(df2)\n",
        "x_std"
      ],
      "metadata": {
        "colab": {
          "base_uri": "https://localhost:8080/"
        },
        "id": "b-lNlyNzYo0-",
        "outputId": "cf6b86f3-fda8-49d0-ac0f-3b60f1241790"
      },
      "execution_count": 182,
      "outputs": [
        {
          "output_type": "execute_result",
          "data": {
            "text/plain": [
              "array([[ 1.12815215e+00, -1.42456879e+00, -1.05032324e+00,\n",
              "        -4.34801480e-01],\n",
              "       [ 1.12815215e+00, -1.28103541e+00, -1.05032324e+00,\n",
              "         1.19570407e+00],\n",
              "       [-8.86405260e-01, -1.35280210e+00, -1.05032324e+00,\n",
              "        -1.71591298e+00],\n",
              "       [-8.86405260e-01, -1.13750203e+00, -1.05032324e+00,\n",
              "         1.04041783e+00],\n",
              "       [-8.86405260e-01, -5.63368514e-01, -1.05032324e+00,\n",
              "        -3.95979919e-01],\n",
              "       [-8.86405260e-01, -1.20926872e+00, -1.05032324e+00,\n",
              "         1.00159627e+00],\n",
              "       [-8.86405260e-01, -2.76301755e-01, -1.05032324e+00,\n",
              "        -1.71591298e+00],\n",
              "       [-8.86405260e-01, -1.13750203e+00, -1.05032324e+00,\n",
              "         1.70038436e+00],\n",
              "       [ 1.12815215e+00,  1.80493225e+00, -1.05032324e+00,\n",
              "        -1.83237767e+00],\n",
              "       [-8.86405260e-01, -6.35135204e-01, -1.05032324e+00,\n",
              "         8.46310024e-01],\n",
              "       [ 1.12815215e+00,  2.02023231e+00, -1.05032324e+00,\n",
              "        -1.40534050e+00],\n",
              "       [-8.86405260e-01, -2.76301755e-01, -1.05032324e+00,\n",
              "         1.89449216e+00],\n",
              "       [-8.86405260e-01,  1.37433211e+00, -1.05032324e+00,\n",
              "        -1.36651894e+00],\n",
              "       [-8.86405260e-01, -1.06573534e+00, -1.05032324e+00,\n",
              "         1.04041783e+00],\n",
              "       [ 1.12815215e+00, -1.32768376e-01, -1.05032324e+00,\n",
              "        -1.44416206e+00],\n",
              "       [ 1.12815215e+00, -1.20926872e+00, -1.05032324e+00,\n",
              "         1.11806095e+00],\n",
              "       [-8.86405260e-01, -2.76301755e-01, -1.05032324e+00,\n",
              "        -5.90087723e-01],\n",
              "       [ 1.12815215e+00, -1.35280210e+00, -1.05032324e+00,\n",
              "         6.13380659e-01],\n",
              "       [ 1.12815215e+00,  9.43731969e-01, -1.05032324e+00,\n",
              "        -8.23017087e-01],\n",
              "       [-8.86405260e-01, -2.76301755e-01, -1.05032324e+00,\n",
              "         1.85567060e+00],\n",
              "       [ 1.12815215e+00, -2.76301755e-01, -1.05032324e+00,\n",
              "        -5.90087723e-01],\n",
              "       [ 1.12815215e+00, -9.93968652e-01, -1.05032324e+00,\n",
              "         8.85131584e-01],\n",
              "       [-8.86405260e-01,  5.13131831e-01, -1.05032324e+00,\n",
              "        -1.75473454e+00],\n",
              "       [ 1.12815215e+00, -5.63368514e-01, -1.05032324e+00,\n",
              "         8.85131584e-01],\n",
              "       [-8.86405260e-01,  1.08726535e+00, -1.05032324e+00,\n",
              "        -1.40534050e+00],\n",
              "       [ 1.12815215e+00, -7.06901893e-01, -1.05032324e+00,\n",
              "         1.23452563e+00],\n",
              "       [-8.86405260e-01,  4.41365142e-01, -1.05032324e+00,\n",
              "        -7.06552405e-01],\n",
              "       [ 1.12815215e+00, -2.76301755e-01, -1.05032324e+00,\n",
              "         4.19272856e-01],\n",
              "       [-8.86405260e-01,  8.25316931e-02, -1.05032324e+00,\n",
              "        -7.45373966e-01],\n",
              "       [-8.86405260e-01, -1.13750203e+00, -1.05032324e+00,\n",
              "         1.42863343e+00],\n",
              "       [ 1.12815215e+00,  1.51786549e+00, -1.05032324e+00,\n",
              "        -1.79355610e+00],\n",
              "       [-8.86405260e-01, -1.28103541e+00, -1.05032324e+00,\n",
              "         8.85131584e-01],\n",
              "       [ 1.12815215e+00,  1.01549866e+00, -1.05032324e+00,\n",
              "        -1.79355610e+00],\n",
              "       [ 1.12815215e+00, -1.49633548e+00, -1.05032324e+00,\n",
              "         1.62274124e+00],\n",
              "       [-8.86405260e-01,  7.28431900e-01, -1.05032324e+00,\n",
              "        -1.40534050e+00],\n",
              "       [-8.86405260e-01, -1.28103541e+00, -1.05032324e+00,\n",
              "         1.19570407e+00],\n",
              "       [-8.86405260e-01,  2.26065072e-01, -1.05032324e+00,\n",
              "        -1.28887582e+00],\n",
              "       [-8.86405260e-01, -6.35135204e-01, -1.05032324e+00,\n",
              "         8.85131584e-01],\n",
              "       [-8.86405260e-01, -2.04535066e-01, -1.05032324e+00,\n",
              "        -9.39481769e-01],\n",
              "       [-8.86405260e-01, -1.35280210e+00, -1.05032324e+00,\n",
              "         9.62774706e-01],\n",
              "       [-8.86405260e-01,  1.87669894e+00, -1.05032324e+00,\n",
              "        -5.90087723e-01],\n",
              "       [ 1.12815215e+00, -1.06573534e+00, -1.05032324e+00,\n",
              "         1.62274124e+00],\n",
              "       [ 1.12815215e+00,  6.56665211e-01, -1.05032324e+00,\n",
              "        -5.51266162e-01],\n",
              "       [-8.86405260e-01, -5.63368514e-01, -1.05032324e+00,\n",
              "         4.19272856e-01],\n",
              "       [-8.86405260e-01,  7.28431900e-01, -1.05032324e+00,\n",
              "        -8.61838648e-01],\n",
              "       [-8.86405260e-01, -1.06573534e+00, -1.05032324e+00,\n",
              "         5.74559099e-01],\n",
              "       [-8.86405260e-01,  8.00198590e-01, -1.05032324e+00,\n",
              "         1.86343491e-01],\n",
              "       [-8.86405260e-01, -8.50435273e-01, -1.05032324e+00,\n",
              "        -1.24228994e-01],\n",
              "       [-8.86405260e-01, -7.06901893e-01, -1.05032324e+00,\n",
              "        -3.18336798e-01],\n",
              "       [-8.86405260e-01, -5.63368514e-01, -1.05032324e+00,\n",
              "        -3.18336798e-01],\n",
              "       [-8.86405260e-01,  7.28431900e-01, -1.02695676e+00,\n",
              "         6.98788093e-02],\n",
              "       [ 1.12815215e+00, -4.19835135e-01, -1.02695676e+00,\n",
              "         3.80451295e-01],\n",
              "       [-8.86405260e-01, -5.63368514e-01, -9.80223800e-01,\n",
              "         1.47521931e-01],\n",
              "       [ 1.12815215e+00,  1.44609880e+00, -9.80223800e-01,\n",
              "         3.80451295e-01],\n",
              "       [-8.86405260e-01,  8.00198590e-01, -9.80223800e-01,\n",
              "        -2.01872116e-01],\n",
              "       [ 1.12815215e+00,  5.84898521e-01, -9.80223800e-01,\n",
              "        -3.57158359e-01],\n",
              "       [-8.86405260e-01,  8.71965280e-01, -9.33490842e-01,\n",
              "        -7.76431214e-03],\n",
              "       [ 1.12815215e+00,  2.16376569e+00, -9.33490842e-01,\n",
              "        -1.63050555e-01],\n",
              "       [-8.86405260e-01, -8.50435273e-01, -8.40024925e-01,\n",
              "         3.10572486e-02],\n",
              "       [ 1.12815215e+00,  1.01549866e+00, -8.40024925e-01,\n",
              "        -1.63050555e-01],\n",
              "       [ 1.12815215e+00,  2.23553238e+00, -8.40024925e-01,\n",
              "         2.25165052e-01],\n",
              "       [ 1.12815215e+00, -1.42456879e+00, -8.40024925e-01,\n",
              "         1.86343491e-01],\n",
              "       [-8.86405260e-01,  2.02023231e+00, -7.93291967e-01,\n",
              "         6.98788093e-02],\n",
              "       [-8.86405260e-01,  1.08726535e+00, -7.93291967e-01,\n",
              "         3.41629734e-01],\n",
              "       [ 1.12815215e+00,  1.73316556e+00, -7.46559009e-01,\n",
              "         3.10572486e-02],\n",
              "       [ 1.12815215e+00, -1.49633548e+00, -7.46559009e-01,\n",
              "         3.41629734e-01],\n",
              "       [-8.86405260e-01,  2.97831762e-01, -7.46559009e-01,\n",
              "        -7.76431214e-03],\n",
              "       [-8.86405260e-01,  2.09199900e+00, -7.46559009e-01,\n",
              "        -8.54074336e-02],\n",
              "       [ 1.12815215e+00, -1.42456879e+00, -7.46559009e-01,\n",
              "         3.41629734e-01],\n",
              "       [-8.86405260e-01, -4.91601824e-01, -7.46559009e-01,\n",
              "        -1.24228994e-01],\n",
              "       [ 1.12815215e+00,  2.23553238e+00, -6.99826051e-01,\n",
              "         1.86343491e-01],\n",
              "       [-8.86405260e-01,  5.84898521e-01, -6.99826051e-01,\n",
              "        -3.18336798e-01],\n",
              "       [-8.86405260e-01,  1.51786549e+00, -6.53093092e-01,\n",
              "        -4.65858729e-02],\n",
              "       [-8.86405260e-01,  1.51786549e+00, -6.53093092e-01,\n",
              "         2.25165052e-01],\n",
              "       [ 1.12815215e+00,  1.44609880e+00, -4.66161259e-01,\n",
              "        -1.24228994e-01],\n",
              "       [ 1.12815215e+00, -9.22201962e-01, -4.66161259e-01,\n",
              "         1.47521931e-01],\n",
              "       [-8.86405260e-01,  4.41365142e-01, -4.66161259e-01,\n",
              "         1.08700370e-01],\n",
              "       [ 1.12815215e+00,  8.25316931e-02, -4.66161259e-01,\n",
              "        -8.54074336e-02],\n",
              "       [-8.86405260e-01, -1.13750203e+00, -4.66161259e-01,\n",
              "         6.98788093e-02],\n",
              "       [-8.86405260e-01,  7.28431900e-01, -4.66161259e-01,\n",
              "        -3.18336798e-01],\n",
              "       [ 1.12815215e+00,  1.30256542e+00, -4.66161259e-01,\n",
              "         3.10572486e-02],\n",
              "       [ 1.12815215e+00, -6.10016862e-02, -4.66161259e-01,\n",
              "         1.86343491e-01],\n",
              "       [ 1.12815215e+00,  2.02023231e+00, -4.66161259e-01,\n",
              "        -3.57158359e-01],\n",
              "       [-8.86405260e-01,  5.13131831e-01, -4.66161259e-01,\n",
              "        -2.40693676e-01],\n",
              "       [-8.86405260e-01, -1.28103541e+00, -4.66161259e-01,\n",
              "         2.63986613e-01],\n",
              "       [ 1.12815215e+00,  6.56665211e-01, -4.66161259e-01,\n",
              "        -1.63050555e-01],\n",
              "       [-8.86405260e-01,  1.15903204e+00, -3.25962384e-01,\n",
              "         3.02808174e-01],\n",
              "       [-8.86405260e-01, -1.20926872e+00, -3.25962384e-01,\n",
              "         1.86343491e-01],\n",
              "       [-8.86405260e-01, -3.48068445e-01, -2.79229426e-01,\n",
              "         3.80451295e-01],\n",
              "       [-8.86405260e-01,  8.00198590e-01, -2.79229426e-01,\n",
              "        -1.63050555e-01],\n",
              "       [-8.86405260e-01,  2.09199900e+00, -2.32496468e-01,\n",
              "         1.86343491e-01],\n",
              "       [ 1.12815215e+00, -1.49633548e+00, -2.32496468e-01,\n",
              "        -3.57158359e-01],\n",
              "       [ 1.12815215e+00,  6.56665211e-01, -1.85763509e-01,\n",
              "        -4.65858729e-02],\n",
              "       [-8.86405260e-01,  8.25316931e-02, -1.85763509e-01,\n",
              "        -3.95979919e-01],\n",
              "       [-8.86405260e-01, -4.91601824e-01, -1.85763509e-01,\n",
              "        -3.18336798e-01],\n",
              "       [ 1.12815215e+00, -1.06573534e+00, -1.85763509e-01,\n",
              "         6.98788093e-02],\n",
              "       [-8.86405260e-01,  5.84898521e-01, -1.85763509e-01,\n",
              "        -1.24228994e-01],\n",
              "       [-8.86405260e-01, -8.50435273e-01, -1.85763509e-01,\n",
              "        -7.76431214e-03],\n",
              "       [ 1.12815215e+00,  6.56665211e-01, -1.39030551e-01,\n",
              "        -3.18336798e-01],\n",
              "       [ 1.12815215e+00, -1.35280210e+00, -1.39030551e-01,\n",
              "        -4.65858729e-02],\n",
              "       [-8.86405260e-01, -1.13750203e+00, -9.22975926e-02,\n",
              "        -3.57158359e-01],\n",
              "       [-8.86405260e-01,  7.28431900e-01, -9.22975926e-02,\n",
              "        -8.54074336e-02],\n",
              "       [ 1.12815215e+00,  2.02023231e+00, -9.22975926e-02,\n",
              "         3.41629734e-01],\n",
              "       [ 1.12815215e+00, -9.22201962e-01, -9.22975926e-02,\n",
              "         1.86343491e-01],\n",
              "       [ 1.12815215e+00,  7.28431900e-01, -9.22975926e-02,\n",
              "         2.25165052e-01],\n",
              "       [-8.86405260e-01, -1.28103541e+00, -9.22975926e-02,\n",
              "        -3.18336798e-01],\n",
              "       [-8.86405260e-01,  1.94846562e+00, -4.55646343e-02,\n",
              "        -7.76431214e-03],\n",
              "       [ 1.12815215e+00,  1.08726535e+00, -4.55646343e-02,\n",
              "        -1.63050555e-01],\n",
              "       [ 1.12815215e+00,  2.09199900e+00, -4.55646343e-02,\n",
              "        -2.79515237e-01],\n",
              "       [ 1.12815215e+00,  1.94846562e+00, -4.55646343e-02,\n",
              "        -8.54074336e-02],\n",
              "       [ 1.12815215e+00,  1.87669894e+00, -4.55646343e-02,\n",
              "         6.98788093e-02],\n",
              "       [-8.86405260e-01, -1.42456879e+00, -4.55646343e-02,\n",
              "         1.47521931e-01],\n",
              "       [-8.86405260e-01, -6.10016862e-02,  1.16832396e-03,\n",
              "        -3.18336798e-01],\n",
              "       [ 1.12815215e+00, -1.42456879e+00,  1.16832396e-03,\n",
              "        -1.63050555e-01],\n",
              "       [-8.86405260e-01, -1.49633548e+00,  4.79012823e-02,\n",
              "        -8.54074336e-02],\n",
              "       [-8.86405260e-01, -1.42456879e+00,  4.79012823e-02,\n",
              "        -7.76431214e-03],\n",
              "       [-8.86405260e-01,  1.73316556e+00,  4.79012823e-02,\n",
              "        -2.79515237e-01],\n",
              "       [-8.86405260e-01,  7.28431900e-01,  4.79012823e-02,\n",
              "         3.41629734e-01],\n",
              "       [-8.86405260e-01,  8.71965280e-01,  1.41367199e-01,\n",
              "        -2.79515237e-01],\n",
              "       [-8.86405260e-01,  8.00198590e-01,  1.41367199e-01,\n",
              "         2.63986613e-01],\n",
              "       [ 1.12815215e+00, -8.50435273e-01,  1.41367199e-01,\n",
              "         2.25165052e-01],\n",
              "       [-8.86405260e-01, -6.10016862e-02,  1.41367199e-01,\n",
              "        -3.95979919e-01],\n",
              "       [-8.86405260e-01,  8.25316931e-02,  2.34833115e-01,\n",
              "         3.02808174e-01],\n",
              "       [ 1.12815215e+00,  1.07650035e-02,  2.34833115e-01,\n",
              "         1.58391968e+00],\n",
              "       [-8.86405260e-01, -1.13750203e+00,  2.81566074e-01,\n",
              "        -8.23017087e-01],\n",
              "       [-8.86405260e-01, -5.63368514e-01,  2.81566074e-01,\n",
              "         1.04041783e+00],\n",
              "       [ 1.12815215e+00,  2.97831762e-01,  3.28299032e-01,\n",
              "        -5.90087723e-01],\n",
              "       [ 1.12815215e+00,  8.25316931e-02,  3.28299032e-01,\n",
              "         1.73920592e+00],\n",
              "       [ 1.12815215e+00,  1.44609880e+00,  3.28299032e-01,\n",
              "        -1.52180518e+00],\n",
              "       [ 1.12815215e+00, -6.10016862e-02,  3.28299032e-01,\n",
              "         9.62774706e-01],\n",
              "       [ 1.12815215e+00,  5.84898521e-01,  3.28299032e-01,\n",
              "        -1.59944830e+00],\n",
              "       [ 1.12815215e+00,  1.07650035e-02,  3.28299032e-01,\n",
              "         9.62774706e-01],\n",
              "       [-8.86405260e-01, -9.93968652e-01,  3.75031990e-01,\n",
              "        -6.28909284e-01],\n",
              "       [-8.86405260e-01, -5.63368514e-01,  3.75031990e-01,\n",
              "         8.07488463e-01],\n",
              "       [ 1.12815215e+00, -1.35280210e+00,  4.21764949e-01,\n",
              "        -1.75473454e+00],\n",
              "       [-8.86405260e-01, -7.06901893e-01,  4.21764949e-01,\n",
              "         1.46745499e+00],\n",
              "       [-8.86405260e-01,  3.69598452e-01,  4.21764949e-01,\n",
              "        -1.67709142e+00],\n",
              "       [ 1.12815215e+00, -4.91601824e-01,  4.21764949e-01,\n",
              "         8.85131584e-01],\n",
              "       [ 1.12815215e+00, -1.42456879e+00,  4.68497907e-01,\n",
              "        -1.56062674e+00],\n",
              "       [-8.86405260e-01, -2.76301755e-01,  4.68497907e-01,\n",
              "         8.46310024e-01],\n",
              "       [-8.86405260e-01,  1.30256542e+00,  5.15230865e-01,\n",
              "        -1.75473454e+00],\n",
              "       [ 1.12815215e+00, -4.91601824e-01,  5.15230865e-01,\n",
              "         1.66156280e+00],\n",
              "       [-8.86405260e-01, -7.78668583e-01,  5.61963824e-01,\n",
              "        -3.95979919e-01],\n",
              "       [-8.86405260e-01, -4.91601824e-01,  5.61963824e-01,\n",
              "         1.42863343e+00],\n",
              "       [ 1.12815215e+00, -9.93968652e-01,  6.08696782e-01,\n",
              "        -1.48298362e+00],\n",
              "       [ 1.12815215e+00, -7.78668583e-01,  6.08696782e-01,\n",
              "         1.81684904e+00],\n",
              "       [ 1.12815215e+00,  6.56665211e-01,  6.08696782e-01,\n",
              "        -5.51266162e-01],\n",
              "       [-8.86405260e-01, -4.91601824e-01,  6.08696782e-01,\n",
              "         9.23953145e-01],\n",
              "       [-8.86405260e-01, -3.48068445e-01,  6.55429740e-01,\n",
              "        -1.09476801e+00],\n",
              "       [ 1.12815215e+00, -3.48068445e-01,  6.55429740e-01,\n",
              "         1.54509812e+00],\n",
              "       [ 1.12815215e+00,  2.97831762e-01,  6.55429740e-01,\n",
              "        -1.28887582e+00],\n",
              "       [ 1.12815215e+00,  1.07650035e-02,  6.55429740e-01,\n",
              "         1.46745499e+00],\n",
              "       [-8.86405260e-01,  3.69598452e-01,  6.55429740e-01,\n",
              "        -1.17241113e+00],\n",
              "       [-8.86405260e-01, -6.10016862e-02,  6.55429740e-01,\n",
              "         1.00159627e+00],\n",
              "       [-8.86405260e-01,  5.84898521e-01,  6.55429740e-01,\n",
              "        -1.32769738e+00],\n",
              "       [-8.86405260e-01, -8.50435273e-01,  6.55429740e-01,\n",
              "         1.50627656e+00],\n",
              "       [ 1.12815215e+00, -1.32768376e-01,  6.55429740e-01,\n",
              "        -1.91002079e+00],\n",
              "       [-8.86405260e-01, -6.35135204e-01,  6.55429740e-01,\n",
              "         1.07923939e+00],\n",
              "       [ 1.12815215e+00, -3.48068445e-01,  6.55429740e-01,\n",
              "        -1.91002079e+00],\n",
              "       [-8.86405260e-01, -6.35135204e-01,  6.55429740e-01,\n",
              "         8.85131584e-01],\n",
              "       [-8.86405260e-01,  1.23079873e+00,  7.02162698e-01,\n",
              "        -5.90087723e-01],\n",
              "       [-8.86405260e-01, -7.06901893e-01,  7.02162698e-01,\n",
              "         1.27334719e+00],\n",
              "       [ 1.12815215e+00, -1.42456879e+00,  7.95628615e-01,\n",
              "        -1.75473454e+00],\n",
              "       [-8.86405260e-01, -5.63368514e-01,  7.95628615e-01,\n",
              "         1.66156280e+00],\n",
              "       [ 1.12815215e+00,  8.00198590e-01,  9.82560448e-01,\n",
              "        -9.39481769e-01],\n",
              "       [-8.86405260e-01, -2.04535066e-01,  9.82560448e-01,\n",
              "         9.62774706e-01],\n",
              "       [ 1.12815215e+00,  2.26065072e-01,  1.02929341e+00,\n",
              "        -1.17241113e+00],\n",
              "       [-8.86405260e-01, -4.19835135e-01,  1.02929341e+00,\n",
              "         1.73920592e+00],\n",
              "       [-8.86405260e-01, -2.04535066e-01,  1.07602636e+00,\n",
              "        -9.00660209e-01],\n",
              "       [ 1.12815215e+00, -4.91601824e-01,  1.07602636e+00,\n",
              "         4.96915977e-01],\n",
              "       [ 1.12815215e+00,  8.25316931e-02,  1.07602636e+00,\n",
              "        -1.44416206e+00],\n",
              "       [ 1.12815215e+00, -7.78668583e-01,  1.07602636e+00,\n",
              "         9.62774706e-01],\n",
              "       [ 1.12815215e+00, -2.04535066e-01,  1.07602636e+00,\n",
              "        -1.56062674e+00],\n",
              "       [ 1.12815215e+00, -2.04535066e-01,  1.07602636e+00,\n",
              "         1.62274124e+00],\n",
              "       [-8.86405260e-01,  9.43731969e-01,  1.12275932e+00,\n",
              "        -1.44416206e+00],\n",
              "       [-8.86405260e-01, -6.35135204e-01,  1.12275932e+00,\n",
              "         1.38981187e+00],\n",
              "       [ 1.12815215e+00,  1.37433211e+00,  1.12275932e+00,\n",
              "        -1.36651894e+00],\n",
              "       [ 1.12815215e+00, -8.50435273e-01,  1.12275932e+00,\n",
              "         7.29845341e-01],\n",
              "       [ 1.12815215e+00,  1.44609880e+00,  1.35642411e+00,\n",
              "        -1.40534050e+00],\n",
              "       [ 1.12815215e+00, -2.76301755e-01,  1.35642411e+00,\n",
              "         1.54509812e+00],\n",
              "       [-8.86405260e-01, -1.32768376e-01,  1.54335595e+00,\n",
              "        -7.06552405e-01],\n",
              "       [-8.86405260e-01, -4.91601824e-01,  1.54335595e+00,\n",
              "         1.38981187e+00],\n",
              "       [ 1.12815215e+00,  5.13131831e-01,  1.59008891e+00,\n",
              "        -1.36651894e+00],\n",
              "       [-8.86405260e-01, -7.06901893e-01,  1.59008891e+00,\n",
              "         1.46745499e+00],\n",
              "       [-8.86405260e-01,  1.54298383e-01,  1.63682186e+00,\n",
              "        -4.34801480e-01],\n",
              "       [ 1.12815215e+00, -6.35135204e-01,  1.63682186e+00,\n",
              "         1.81684904e+00],\n",
              "       [-8.86405260e-01,  1.08726535e+00,  1.73028778e+00,\n",
              "        -1.01712489e+00],\n",
              "       [ 1.12815215e+00, -7.78668583e-01,  1.73028778e+00,\n",
              "         6.91023781e-01],\n",
              "       [-8.86405260e-01,  1.54298383e-01,  1.82375370e+00,\n",
              "        -1.28887582e+00],\n",
              "       [-8.86405260e-01, -2.04535066e-01,  1.82375370e+00,\n",
              "         1.35099031e+00],\n",
              "       [-8.86405260e-01, -3.48068445e-01,  1.82375370e+00,\n",
              "        -1.05594645e+00],\n",
              "       [-8.86405260e-01, -4.91601824e-01,  1.82375370e+00,\n",
              "         7.29845341e-01],\n",
              "       [ 1.12815215e+00, -4.19835135e-01,  2.29108328e+00,\n",
              "        -1.63826986e+00],\n",
              "       [-8.86405260e-01, -6.10016862e-02,  2.29108328e+00,\n",
              "         1.58391968e+00],\n",
              "       [-8.86405260e-01,  5.84898521e-01,  2.61821399e+00,\n",
              "        -1.32769738e+00],\n",
              "       [-8.86405260e-01, -2.76301755e-01,  2.61821399e+00,\n",
              "         1.11806095e+00],\n",
              "       [-8.86405260e-01,  4.41365142e-01,  2.89861174e+00,\n",
              "        -8.61838648e-01],\n",
              "       [ 1.12815215e+00, -4.91601824e-01,  2.89861174e+00,\n",
              "         9.23953145e-01],\n",
              "       [ 1.12815215e+00, -4.91601824e-01,  2.89861174e+00,\n",
              "        -1.25005425e+00],\n",
              "       [ 1.12815215e+00, -6.35135204e-01,  2.89861174e+00,\n",
              "         1.27334719e+00]])"
            ]
          },
          "metadata": {},
          "execution_count": 182
        }
      ]
    },
    {
      "cell_type": "markdown",
      "source": [
        "## Building the Model"
      ],
      "metadata": {
        "id": "B7dyJ2N1tIZ-"
      }
    },
    {
      "cell_type": "code",
      "source": [
        "km = KMeans(n_clusters=2)\n",
        "km.fit(x_std)"
      ],
      "metadata": {
        "colab": {
          "base_uri": "https://localhost:8080/",
          "height": 129
        },
        "id": "tuBtGh9oZCUG",
        "outputId": "deff7698-e33e-422b-be7d-cf141c9cdf13"
      },
      "execution_count": 183,
      "outputs": [
        {
          "output_type": "stream",
          "name": "stderr",
          "text": [
            "/usr/local/lib/python3.10/dist-packages/sklearn/cluster/_kmeans.py:870: FutureWarning: The default value of `n_init` will change from 10 to 'auto' in 1.4. Set the value of `n_init` explicitly to suppress the warning\n",
            "  warnings.warn(\n"
          ]
        },
        {
          "output_type": "execute_result",
          "data": {
            "text/plain": [
              "KMeans(n_clusters=2)"
            ],
            "text/html": [
              "<style>#sk-container-id-4 {color: black;background-color: white;}#sk-container-id-4 pre{padding: 0;}#sk-container-id-4 div.sk-toggleable {background-color: white;}#sk-container-id-4 label.sk-toggleable__label {cursor: pointer;display: block;width: 100%;margin-bottom: 0;padding: 0.3em;box-sizing: border-box;text-align: center;}#sk-container-id-4 label.sk-toggleable__label-arrow:before {content: \"▸\";float: left;margin-right: 0.25em;color: #696969;}#sk-container-id-4 label.sk-toggleable__label-arrow:hover:before {color: black;}#sk-container-id-4 div.sk-estimator:hover label.sk-toggleable__label-arrow:before {color: black;}#sk-container-id-4 div.sk-toggleable__content {max-height: 0;max-width: 0;overflow: hidden;text-align: left;background-color: #f0f8ff;}#sk-container-id-4 div.sk-toggleable__content pre {margin: 0.2em;color: black;border-radius: 0.25em;background-color: #f0f8ff;}#sk-container-id-4 input.sk-toggleable__control:checked~div.sk-toggleable__content {max-height: 200px;max-width: 100%;overflow: auto;}#sk-container-id-4 input.sk-toggleable__control:checked~label.sk-toggleable__label-arrow:before {content: \"▾\";}#sk-container-id-4 div.sk-estimator input.sk-toggleable__control:checked~label.sk-toggleable__label {background-color: #d4ebff;}#sk-container-id-4 div.sk-label input.sk-toggleable__control:checked~label.sk-toggleable__label {background-color: #d4ebff;}#sk-container-id-4 input.sk-hidden--visually {border: 0;clip: rect(1px 1px 1px 1px);clip: rect(1px, 1px, 1px, 1px);height: 1px;margin: -1px;overflow: hidden;padding: 0;position: absolute;width: 1px;}#sk-container-id-4 div.sk-estimator {font-family: monospace;background-color: #f0f8ff;border: 1px dotted black;border-radius: 0.25em;box-sizing: border-box;margin-bottom: 0.5em;}#sk-container-id-4 div.sk-estimator:hover {background-color: #d4ebff;}#sk-container-id-4 div.sk-parallel-item::after {content: \"\";width: 100%;border-bottom: 1px solid gray;flex-grow: 1;}#sk-container-id-4 div.sk-label:hover label.sk-toggleable__label {background-color: #d4ebff;}#sk-container-id-4 div.sk-serial::before {content: \"\";position: absolute;border-left: 1px solid gray;box-sizing: border-box;top: 0;bottom: 0;left: 50%;z-index: 0;}#sk-container-id-4 div.sk-serial {display: flex;flex-direction: column;align-items: center;background-color: white;padding-right: 0.2em;padding-left: 0.2em;position: relative;}#sk-container-id-4 div.sk-item {position: relative;z-index: 1;}#sk-container-id-4 div.sk-parallel {display: flex;align-items: stretch;justify-content: center;background-color: white;position: relative;}#sk-container-id-4 div.sk-item::before, #sk-container-id-4 div.sk-parallel-item::before {content: \"\";position: absolute;border-left: 1px solid gray;box-sizing: border-box;top: 0;bottom: 0;left: 50%;z-index: -1;}#sk-container-id-4 div.sk-parallel-item {display: flex;flex-direction: column;z-index: 1;position: relative;background-color: white;}#sk-container-id-4 div.sk-parallel-item:first-child::after {align-self: flex-end;width: 50%;}#sk-container-id-4 div.sk-parallel-item:last-child::after {align-self: flex-start;width: 50%;}#sk-container-id-4 div.sk-parallel-item:only-child::after {width: 0;}#sk-container-id-4 div.sk-dashed-wrapped {border: 1px dashed gray;margin: 0 0.4em 0.5em 0.4em;box-sizing: border-box;padding-bottom: 0.4em;background-color: white;}#sk-container-id-4 div.sk-label label {font-family: monospace;font-weight: bold;display: inline-block;line-height: 1.2em;}#sk-container-id-4 div.sk-label-container {text-align: center;}#sk-container-id-4 div.sk-container {/* jupyter's `normalize.less` sets `[hidden] { display: none; }` but bootstrap.min.css set `[hidden] { display: none !important; }` so we also need the `!important` here to be able to override the default hidden behavior on the sphinx rendered scikit-learn.org. See: https://github.com/scikit-learn/scikit-learn/issues/21755 */display: inline-block !important;position: relative;}#sk-container-id-4 div.sk-text-repr-fallback {display: none;}</style><div id=\"sk-container-id-4\" class=\"sk-top-container\"><div class=\"sk-text-repr-fallback\"><pre>KMeans(n_clusters=2)</pre><b>In a Jupyter environment, please rerun this cell to show the HTML representation or trust the notebook. <br />On GitHub, the HTML representation is unable to render, please try loading this page with nbviewer.org.</b></div><div class=\"sk-container\" hidden><div class=\"sk-item\"><div class=\"sk-estimator sk-toggleable\"><input class=\"sk-toggleable__control sk-hidden--visually\" id=\"sk-estimator-id-4\" type=\"checkbox\" checked><label for=\"sk-estimator-id-4\" class=\"sk-toggleable__label sk-toggleable__label-arrow\">KMeans</label><div class=\"sk-toggleable__content\"><pre>KMeans(n_clusters=2)</pre></div></div></div></div></div>"
            ]
          },
          "metadata": {},
          "execution_count": 183
        }
      ]
    },
    {
      "cell_type": "code",
      "source": [
        "centeroids = km.cluster_centers_\n",
        "centeroids"
      ],
      "metadata": {
        "colab": {
          "base_uri": "https://localhost:8080/"
        },
        "id": "sm2XQcNTZKlZ",
        "outputId": "0dcad348-023b-4fd3-8113-7bb01623b8ae"
      },
      "execution_count": 184,
      "outputs": [
        {
          "output_type": "execute_result",
          "data": {
            "text/plain": [
              "array([[ 0.05241761,  0.70892251, -0.03149938, -0.69939115],\n",
              "       [-0.05565994, -0.75277339,  0.03344779,  0.74265245]])"
            ]
          },
          "metadata": {},
          "execution_count": 184
        }
      ]
    },
    {
      "cell_type": "code",
      "source": [
        "km.labels_"
      ],
      "metadata": {
        "colab": {
          "base_uri": "https://localhost:8080/"
        },
        "id": "v-0gYmgxZs43",
        "outputId": "763cffaa-e6de-4de9-dafb-b4d2fd4e5a0f"
      },
      "execution_count": 185,
      "outputs": [
        {
          "output_type": "execute_result",
          "data": {
            "text/plain": [
              "array([1, 1, 0, 1, 1, 1, 0, 1, 0, 1, 0, 1, 0, 1, 0, 1, 0, 1, 0, 1, 0, 1,\n",
              "       0, 1, 0, 1, 0, 1, 0, 1, 0, 1, 0, 1, 0, 1, 0, 1, 0, 1, 0, 1, 0, 1,\n",
              "       0, 1, 0, 1, 1, 1, 0, 1, 1, 0, 0, 0, 0, 0, 1, 0, 0, 1, 0, 0, 0, 1,\n",
              "       0, 0, 1, 1, 0, 0, 0, 0, 0, 1, 0, 0, 1, 0, 0, 1, 0, 0, 1, 0, 0, 1,\n",
              "       1, 0, 0, 1, 0, 0, 1, 1, 0, 1, 0, 1, 1, 0, 0, 1, 0, 1, 0, 0, 0, 0,\n",
              "       0, 1, 0, 1, 1, 1, 0, 0, 0, 0, 1, 0, 1, 1, 1, 1, 0, 1, 0, 1, 0, 1,\n",
              "       1, 1, 0, 1, 0, 1, 0, 1, 0, 1, 1, 1, 0, 1, 0, 1, 0, 1, 0, 1, 0, 1,\n",
              "       0, 1, 0, 1, 0, 1, 0, 1, 0, 1, 0, 1, 0, 1, 0, 1, 0, 1, 0, 1, 0, 1,\n",
              "       0, 1, 0, 1, 0, 1, 0, 1, 0, 1, 0, 1, 0, 1, 0, 1, 0, 1, 0, 1, 0, 1,\n",
              "       0, 1], dtype=int32)"
            ]
          },
          "metadata": {},
          "execution_count": 185
        }
      ]
    },
    {
      "cell_type": "code",
      "source": [
        "km.inertia_"
      ],
      "metadata": {
        "colab": {
          "base_uri": "https://localhost:8080/"
        },
        "id": "VbFdOEEsZz1O",
        "outputId": "b9fa4255-2ad3-4897-e9e2-0e356f1ebf44"
      },
      "execution_count": 186,
      "outputs": [
        {
          "output_type": "execute_result",
          "data": {
            "text/plain": [
              "588.5932612696133"
            ]
          },
          "metadata": {},
          "execution_count": 186
        }
      ]
    },
    {
      "cell_type": "markdown",
      "source": [
        "### Using Elbow method"
      ],
      "metadata": {
        "id": "3ZjHlBYcfpor"
      }
    },
    {
      "cell_type": "code",
      "source": [
        "inertias = []\n",
        "lists_k = list(range(1, 11))\n",
        "\n",
        "for k in lists_k:\n",
        "  km1 = KMeans(n_clusters = k)\n",
        "  km1.fit(x_std)\n",
        "  cluster_labels = km1.predict(x_std)\n",
        "  inertias.append(km1.inertia_)"
      ],
      "metadata": {
        "colab": {
          "base_uri": "https://localhost:8080/"
        },
        "id": "UfRehJ-AZ1eM",
        "outputId": "1b6fca1e-cf37-4de2-eaf7-8a435072cc9a"
      },
      "execution_count": 187,
      "outputs": [
        {
          "output_type": "stream",
          "name": "stderr",
          "text": [
            "/usr/local/lib/python3.10/dist-packages/sklearn/cluster/_kmeans.py:870: FutureWarning: The default value of `n_init` will change from 10 to 'auto' in 1.4. Set the value of `n_init` explicitly to suppress the warning\n",
            "  warnings.warn(\n",
            "/usr/local/lib/python3.10/dist-packages/sklearn/cluster/_kmeans.py:870: FutureWarning: The default value of `n_init` will change from 10 to 'auto' in 1.4. Set the value of `n_init` explicitly to suppress the warning\n",
            "  warnings.warn(\n",
            "/usr/local/lib/python3.10/dist-packages/sklearn/cluster/_kmeans.py:870: FutureWarning: The default value of `n_init` will change from 10 to 'auto' in 1.4. Set the value of `n_init` explicitly to suppress the warning\n",
            "  warnings.warn(\n",
            "/usr/local/lib/python3.10/dist-packages/sklearn/cluster/_kmeans.py:870: FutureWarning: The default value of `n_init` will change from 10 to 'auto' in 1.4. Set the value of `n_init` explicitly to suppress the warning\n",
            "  warnings.warn(\n",
            "/usr/local/lib/python3.10/dist-packages/sklearn/cluster/_kmeans.py:870: FutureWarning: The default value of `n_init` will change from 10 to 'auto' in 1.4. Set the value of `n_init` explicitly to suppress the warning\n",
            "  warnings.warn(\n",
            "/usr/local/lib/python3.10/dist-packages/sklearn/cluster/_kmeans.py:870: FutureWarning: The default value of `n_init` will change from 10 to 'auto' in 1.4. Set the value of `n_init` explicitly to suppress the warning\n",
            "  warnings.warn(\n",
            "/usr/local/lib/python3.10/dist-packages/sklearn/cluster/_kmeans.py:870: FutureWarning: The default value of `n_init` will change from 10 to 'auto' in 1.4. Set the value of `n_init` explicitly to suppress the warning\n",
            "  warnings.warn(\n",
            "/usr/local/lib/python3.10/dist-packages/sklearn/cluster/_kmeans.py:870: FutureWarning: The default value of `n_init` will change from 10 to 'auto' in 1.4. Set the value of `n_init` explicitly to suppress the warning\n",
            "  warnings.warn(\n",
            "/usr/local/lib/python3.10/dist-packages/sklearn/cluster/_kmeans.py:870: FutureWarning: The default value of `n_init` will change from 10 to 'auto' in 1.4. Set the value of `n_init` explicitly to suppress the warning\n",
            "  warnings.warn(\n",
            "/usr/local/lib/python3.10/dist-packages/sklearn/cluster/_kmeans.py:870: FutureWarning: The default value of `n_init` will change from 10 to 'auto' in 1.4. Set the value of `n_init` explicitly to suppress the warning\n",
            "  warnings.warn(\n"
          ]
        }
      ]
    },
    {
      "cell_type": "markdown",
      "source": [
        "## Visualize the Elbow Method"
      ],
      "metadata": {
        "id": "tNmWT35NtMtc"
      }
    },
    {
      "cell_type": "code",
      "source": [
        "sns.set_style('darkgrid')\n",
        "plt.figure(figsize=(6,4))\n",
        "sns.lineplot(x=lists_k, y=inertias, marker='o')\n",
        "plt.xlabel('No of Cluster')\n",
        "plt.ylabel('Inertia')\n",
        "#plt.show"
      ],
      "metadata": {
        "colab": {
          "base_uri": "https://localhost:8080/",
          "height": 406
        },
        "id": "n3u9IbjAgM4P",
        "outputId": "3d63398d-22bb-41ec-9526-ee306f860e66"
      },
      "execution_count": 188,
      "outputs": [
        {
          "output_type": "execute_result",
          "data": {
            "text/plain": [
              "Text(0, 0.5, 'Inertia')"
            ]
          },
          "metadata": {},
          "execution_count": 188
        },
        {
          "output_type": "display_data",
          "data": {
            "text/plain": [
              "<Figure size 600x400 with 1 Axes>"
            ],
            "image/png": "[encoded data removed]"
          },
          "metadata": {}
        }
      ]
    },
    {
      "cell_type": "code",
      "source": [
        "visualizer1 = KElbowVisualizer(km1, k=(1,10),size=(1080, 500))\n",
        "\n",
        "visualizer1.fit(x_std)        # Fit the data to the visualizer\n",
        "visualizer1.show()"
      ],
      "metadata": {
        "colab": {
          "base_uri": "https://localhost:8080/",
          "height": 838
        },
        "id": "RQ1EzvTVq5AO",
        "outputId": "5ea2ca77-28b0-4526-f183-1a1d64585a93"
      },
      "execution_count": 189,
      "outputs": [
        {
          "output_type": "stream",
          "name": "stderr",
          "text": [
            "/usr/local/lib/python3.10/dist-packages/sklearn/cluster/_kmeans.py:870: FutureWarning: The default value of `n_init` will change from 10 to 'auto' in 1.4. Set the value of `n_init` explicitly to suppress the warning\n",
            "  warnings.warn(\n",
            "/usr/local/lib/python3.10/dist-packages/sklearn/cluster/_kmeans.py:870: FutureWarning: The default value of `n_init` will change from 10 to 'auto' in 1.4. Set the value of `n_init` explicitly to suppress the warning\n",
            "  warnings.warn(\n",
            "/usr/local/lib/python3.10/dist-packages/sklearn/cluster/_kmeans.py:870: FutureWarning: The default value of `n_init` will change from 10 to 'auto' in 1.4. Set the value of `n_init` explicitly to suppress the warning\n",
            "  warnings.warn(\n",
            "/usr/local/lib/python3.10/dist-packages/sklearn/cluster/_kmeans.py:870: FutureWarning: The default value of `n_init` will change from 10 to 'auto' in 1.4. Set the value of `n_init` explicitly to suppress the warning\n",
            "  warnings.warn(\n",
            "/usr/local/lib/python3.10/dist-packages/sklearn/cluster/_kmeans.py:870: FutureWarning: The default value of `n_init` will change from 10 to 'auto' in 1.4. Set the value of `n_init` explicitly to suppress the warning\n",
            "  warnings.warn(\n",
            "/usr/local/lib/python3.10/dist-packages/sklearn/cluster/_kmeans.py:870: FutureWarning: The default value of `n_init` will change from 10 to 'auto' in 1.4. Set the value of `n_init` explicitly to suppress the warning\n",
            "  warnings.warn(\n",
            "/usr/local/lib/python3.10/dist-packages/sklearn/cluster/_kmeans.py:870: FutureWarning: The default value of `n_init` will change from 10 to 'auto' in 1.4. Set the value of `n_init` explicitly to suppress the warning\n",
            "  warnings.warn(\n",
            "/usr/local/lib/python3.10/dist-packages/sklearn/cluster/_kmeans.py:870: FutureWarning: The default value of `n_init` will change from 10 to 'auto' in 1.4. Set the value of `n_init` explicitly to suppress the warning\n",
            "  warnings.warn(\n",
            "/usr/local/lib/python3.10/dist-packages/sklearn/cluster/_kmeans.py:870: FutureWarning: The default value of `n_init` will change from 10 to 'auto' in 1.4. Set the value of `n_init` explicitly to suppress the warning\n",
            "  warnings.warn(\n"
          ]
        },
        {
          "output_type": "display_data",
          "data": {
            "text/plain": [
              "<Figure size 1080x500 with 2 Axes>"
            ],
            "image/png": "[encoded data removed]"
          },
          "metadata": {}
        },
        {
          "output_type": "execute_result",
          "data": {
            "text/plain": [
              "<Axes: title={'center': 'Distortion Score Elbow for KMeans Clustering'}, xlabel='k', ylabel='distortion score'>"
            ]
          },
          "metadata": {},
          "execution_count": 189
        }
      ]
    },
    {
      "cell_type": "markdown",
      "source": [
        "### Evaluation Score\n"
      ],
      "metadata": {
        "id": "_6N5EUuGtR18"
      }
    },
    {
      "cell_type": "code",
      "source": [
        "print('Silhouette Score: ', silhouette_score(x_std, cluster_labels))"
      ],
      "metadata": {
        "colab": {
          "base_uri": "https://localhost:8080/"
        },
        "id": "QOaF1K4qp7Gw",
        "outputId": "f37e645e-5732-4c4d-8e34-f8cb96cd1892"
      },
      "execution_count": 153,
      "outputs": [
        {
          "output_type": "stream",
          "name": "stdout",
          "text": [
            "Silhouette Score:  0.40573467174999706\n"
          ]
        }
      ]
    },
    {
      "cell_type": "code",
      "source": [
        "visualizer = SilhouetteVisualizer(km1, size=(1080,500))\n",
        "visualizer.fit(x_std)\n",
        "visualizer.show()"
      ],
      "metadata": {
        "colab": {
          "base_uri": "https://localhost:8080/",
          "height": 505
        },
        "id": "cxDcSjyNqN_O",
        "outputId": "693f38d6-da42-405f-e579-4781835b8213"
      },
      "execution_count": 154,
      "outputs": [
        {
          "output_type": "display_data",
          "data": {
            "text/plain": [
              "<Figure size 1080x500 with 1 Axes>"
            ],
            "image/png": "[encoded data removed]"
          },
          "metadata": {}
        },
        {
          "output_type": "execute_result",
          "data": {
            "text/plain": [
              "<Axes: title={'center': 'Silhouette Plot of KMeans Clustering for 200 Samples in 9 Centers'}, xlabel='silhouette coefficient values', ylabel='cluster label'>"
            ]
          },
          "metadata": {},
          "execution_count": 154
        }
      ]
    },
    {
      "cell_type": "markdown",
      "source": [
        "### Using Principle Component Analysis (PCA)"
      ],
      "metadata": {
        "id": "C_mL39fIhrxV"
      }
    },
    {
      "cell_type": "code",
      "source": [
        "pca = PCA(n_components=2)\n",
        "\n",
        "df3 = pd.DataFrame(pca.fit_transform(x_std), columns=['PCA1', 'PCA2'])\n"
      ],
      "metadata": {
        "id": "7TJT31Cugf3-"
      },
      "execution_count": 166,
      "outputs": []
    },
    {
      "cell_type": "code",
      "source": [
        "df3"
      ],
      "metadata": {
        "colab": {
          "base_uri": "https://localhost:8080/",
          "height": 423
        },
        "id": "o8vxXXGQiRcS",
        "outputId": "a313f36e-1822-4d3d-aa2c-83dffd2e82c2"
      },
      "execution_count": 167,
      "outputs": [
        {
          "output_type": "execute_result",
          "data": {
            "text/plain": [
              "         PCA1      PCA2\n",
              "0   -0.325265  0.088194\n",
              "1   -1.335570  0.048744\n",
              "2    0.166283 -1.217136\n",
              "3   -1.560513 -1.281332\n",
              "4   -0.186240 -1.310478\n",
              "..        ...       ...\n",
              "195 -1.447094  1.390071\n",
              "196  0.363437  1.566903\n",
              "197 -1.066794  2.942625\n",
              "198  0.412561  2.977770\n",
              "199 -1.403758  2.950068\n",
              "\n",
              "[200 rows x 2 columns]"
            ],
            "text/html": [
              "\n",
              "\n",
              "  <div id=\"df-4a842da5-64e5-4cef-8978-f1d1cac12b57\">\n",
              "    <div class=\"colab-df-container\">\n",
              "      <div>\n",
              "<style scoped>\n",
              "    .dataframe tbody tr th:only-of-type {\n",
              "        vertical-align: middle;\n",
              "    }\n",
              "\n",
              "    .dataframe tbody tr th {\n",
              "        vertical-align: top;\n",
              "    }\n",
              "\n",
              "    .dataframe thead th {\n",
              "        text-align: right;\n",
              "    }\n",
              "</style>\n",
              "<table border=\"1\" class=\"dataframe\">\n",
              "  <thead>\n",
              "    <tr style=\"text-align: right;\">\n",
              "      <th></th>\n",
              "      <th>PCA1</th>\n",
              "      <th>PCA2</th>\n",
              "    </tr>\n",
              "  </thead>\n",
              "  <tbody>\n",
              "    <tr>\n",
              "      <th>0</th>\n",
              "      <td>-0.325265</td>\n",
              "      <td>0.088194</td>\n",
              "    </tr>\n",
              "    <tr>\n",
              "      <th>1</th>\n",
              "      <td>-1.335570</td>\n",
              "      <td>0.048744</td>\n",
              "    </tr>\n",
              "    <tr>\n",
              "      <th>2</th>\n",
              "      <td>0.166283</td>\n",
              "      <td>-1.217136</td>\n",
              "    </tr>\n",
              "    <tr>\n",
              "      <th>3</th>\n",
              "      <td>-1.560513</td>\n",
              "      <td>-1.281332</td>\n",
              "    </tr>\n",
              "    <tr>\n",
              "      <th>4</th>\n",
              "      <td>-0.186240</td>\n",
              "      <td>-1.310478</td>\n",
              "    </tr>\n",
              "    <tr>\n",
              "      <th>...</th>\n",
              "      <td>...</td>\n",
              "      <td>...</td>\n",
              "    </tr>\n",
              "    <tr>\n",
              "      <th>195</th>\n",
              "      <td>-1.447094</td>\n",
              "      <td>1.390071</td>\n",
              "    </tr>\n",
              "    <tr>\n",
              "      <th>196</th>\n",
              "      <td>0.363437</td>\n",
              "      <td>1.566903</td>\n",
              "    </tr>\n",
              "    <tr>\n",
              "      <th>197</th>\n",
              "      <td>-1.066794</td>\n",
              "      <td>2.942625</td>\n",
              "    </tr>\n",
              "    <tr>\n",
              "      <th>198</th>\n",
              "      <td>0.412561</td>\n",
              "      <td>2.977770</td>\n",
              "    </tr>\n",
              "    <tr>\n",
              "      <th>199</th>\n",
              "      <td>-1.403758</td>\n",
              "      <td>2.950068</td>\n",
              "    </tr>\n",
              "  </tbody>\n",
              "</table>\n",
              "<p>200 rows × 2 columns</p>\n",
              "</div>\n",
              "      <button class=\"colab-df-convert\" onclick=\"convertToInteractive('df-4a842da5-64e5-4cef-8978-f1d1cac12b57')\"\n",
              "              title=\"Convert this dataframe to an interactive table.\"\n",
              "              style=\"display:none;\">\n",
              "\n",
              "  <svg xmlns=\"http://www.w3.org/2000/svg\" height=\"24px\"viewBox=\"0 0 24 24\"\n",
              "       width=\"24px\">\n",
              "    <path d=\"M0 0h24v24H0V0z\" fill=\"none\"/>\n",
              "    <path d=\"M18.56 5.44l.94 2.06.94-2.06 2.06-.94-2.06-.94-.94-2.06-.94 2.06-2.06.94zm-11 1L8.5 8.5l.94-2.06 2.06-.94-2.06-.94L8.5 2.5l-.94 2.06-2.06.94zm10 10l.94 2.06.94-2.06 2.06-.94-2.06-.94-.94-2.06-.94 2.06-2.06.94z\"/><path d=\"M17.41 7.96l-1.37-1.37c-.4-.4-.92-.59-1.43-.59-.52 0-1.04.2-1.43.59L10.3 9.45l-7.72 7.72c-.78.78-.78 2.05 0 2.83L4 21.41c.39.39.9.59 1.41.59.51 0 1.02-.2 1.41-.59l7.78-7.78 2.81-2.81c.8-.78.8-2.07 0-2.86zM5.41 20L4 18.59l7.72-7.72 1.47 1.35L5.41 20z\"/>\n",
              "  </svg>\n",
              "      </button>\n",
              "\n",
              "\n",
              "\n",
              "    <div id=\"df-145ed762-1327-4e6d-8855-f50c5a8e4694\">\n",
              "      <button class=\"colab-df-quickchart\" onclick=\"quickchart('df-145ed762-1327-4e6d-8855-f50c5a8e4694')\"\n",
              "              title=\"Suggest charts.\"\n",
              "              style=\"display:none;\">\n",
              "\n",
              "<svg xmlns=\"http://www.w3.org/2000/svg\" height=\"24px\"viewBox=\"0 0 24 24\"\n",
              "     width=\"24px\">\n",
              "    <g>\n",
              "        <path d=\"M19 3H5c-1.1 0-2 .9-2 2v14c0 1.1.9 2 2 2h14c1.1 0 2-.9 2-2V5c0-1.1-.9-2-2-2zM9 17H7v-7h2v7zm4 0h-2V7h2v10zm4 0h-2v-4h2v4z\"/>\n",
              "    </g>\n",
              "</svg>\n",
              "      </button>\n",
              "    </div>\n",
              "\n",
              "<style>\n",
              "  .colab-df-quickchart {\n",
              "    background-color: #E8F0FE;\n",
              "    border: none;\n",
              "    border-radius: 50%;\n",
              "    cursor: pointer;\n",
              "    display: none;\n",
              "    fill: #1967D2;\n",
              "    height: 32px;\n",
              "    padding: 0 0 0 0;\n",
              "    width: 32px;\n",
              "  }\n",
              "\n",
              "  .colab-df-quickchart:hover {\n",
              "    background-color: #E2EBFA;\n",
              "    box-shadow: 0px 1px 2px rgba(60, 64, 67, 0.3), 0px 1px 3px 1px rgba(60, 64, 67, 0.15);\n",
              "    fill: #174EA6;\n",
              "  }\n",
              "\n",
              "  [theme=dark] .colab-df-quickchart {\n",
              "    background-color: #3B4455;\n",
              "    fill: #D2E3FC;\n",
              "  }\n",
              "\n",
              "  [theme=dark] .colab-df-quickchart:hover {\n",
              "    background-color: #434B5C;\n",
              "    box-shadow: 0px 1px 3px 1px rgba(0, 0, 0, 0.15);\n",
              "    filter: drop-shadow(0px 1px 2px rgba(0, 0, 0, 0.3));\n",
              "    fill: #FFFFFF;\n",
              "  }\n",
              "</style>\n",
              "\n",
              "    <script>\n",
              "      async function quickchart(key) {\n",
              "        const containerElement = document.querySelector('#' + key);\n",
              "        const charts = await google.colab.kernel.invokeFunction(\n",
              "            'suggestCharts', [key], {});\n",
              "      }\n",
              "    </script>\n",
              "\n",
              "      <script>\n",
              "\n",
              "function displayQuickchartButton(domScope) {\n",
              "  let quickchartButtonEl =\n",
              "    domScope.querySelector('#df-145ed762-1327-4e6d-8855-f50c5a8e4694 button.colab-df-quickchart');\n",
              "  quickchartButtonEl.style.display =\n",
              "    google.colab.kernel.accessAllowed ? 'block' : 'none';\n",
              "}\n",
              "\n",
              "        displayQuickchartButton(document);\n",
              "      </script>\n",
              "      <style>\n",
              "    .colab-df-container {\n",
              "      display:flex;\n",
              "      flex-wrap:wrap;\n",
              "      gap: 12px;\n",
              "    }\n",
              "\n",
              "    .colab-df-convert {\n",
              "      background-color: #E8F0FE;\n",
              "      border: none;\n",
              "      border-radius: 50%;\n",
              "      cursor: pointer;\n",
              "      display: none;\n",
              "      fill: #1967D2;\n",
              "      height: 32px;\n",
              "      padding: 0 0 0 0;\n",
              "      width: 32px;\n",
              "    }\n",
              "\n",
              "    .colab-df-convert:hover {\n",
              "      background-color: #E2EBFA;\n",
              "      box-shadow: 0px 1px 2px rgba(60, 64, 67, 0.3), 0px 1px 3px 1px rgba(60, 64, 67, 0.15);\n",
              "      fill: #174EA6;\n",
              "    }\n",
              "\n",
              "    [theme=dark] .colab-df-convert {\n",
              "      background-color: #3B4455;\n",
              "      fill: #D2E3FC;\n",
              "    }\n",
              "\n",
              "    [theme=dark] .colab-df-convert:hover {\n",
              "      background-color: #434B5C;\n",
              "      box-shadow: 0px 1px 3px 1px rgba(0, 0, 0, 0.15);\n",
              "      filter: drop-shadow(0px 1px 2px rgba(0, 0, 0, 0.3));\n",
              "      fill: #FFFFFF;\n",
              "    }\n",
              "  </style>\n",
              "\n",
              "      <script>\n",
              "        const buttonEl =\n",
              "          document.querySelector('#df-4a842da5-64e5-4cef-8978-f1d1cac12b57 button.colab-df-convert');\n",
              "        buttonEl.style.display =\n",
              "          google.colab.kernel.accessAllowed ? 'block' : 'none';\n",
              "\n",
              "        async function convertToInteractive(key) {\n",
              "          const element = document.querySelector('#df-4a842da5-64e5-4cef-8978-f1d1cac12b57');\n",
              "          const dataTable =\n",
              "            await google.colab.kernel.invokeFunction('convertToInteractive',\n",
              "                                                     [key], {});\n",
              "          if (!dataTable) return;\n",
              "\n",
              "          const docLinkHtml = 'Like what you see? Visit the ' +\n",
              "            '<a target=\"_blank\" href=https://colab.research.google.com/notebooks/data_table.ipynb>data table notebook</a>'\n",
              "            + ' to learn more about interactive tables.';\n",
              "          element.innerHTML = '';\n",
              "          dataTable['output_type'] = 'display_data';\n",
              "          await google.colab.output.renderOutput(dataTable, element);\n",
              "          const docLink = document.createElement('div');\n",
              "          docLink.innerHTML = docLinkHtml;\n",
              "          element.appendChild(docLink);\n",
              "        }\n",
              "      </script>\n",
              "    </div>\n",
              "  </div>\n"
            ]
          },
          "metadata": {},
          "execution_count": 167
        }
      ]
    },
    {
      "cell_type": "code",
      "source": [
        "df3.columns"
      ],
      "metadata": {
        "colab": {
          "base_uri": "https://localhost:8080/"
        },
        "id": "k26_aR8Ji_Yg",
        "outputId": "c42a59b3-6de7-4a7b-aaf3-87104c0cdab2"
      },
      "execution_count": 168,
      "outputs": [
        {
          "output_type": "execute_result",
          "data": {
            "text/plain": [
              "Index(['PCA1', 'PCA2'], dtype='object')"
            ]
          },
          "metadata": {},
          "execution_count": 168
        }
      ]
    },
    {
      "cell_type": "code",
      "source": [
        "a1 = km1.cluster_centers_"
      ],
      "metadata": {
        "id": "ejVrhtKhiSz8"
      },
      "execution_count": 169,
      "outputs": []
    },
    {
      "cell_type": "code",
      "source": [
        "reduce_centers = pca.fit_transform(a1)\n",
        "reduce_centers"
      ],
      "metadata": {
        "colab": {
          "base_uri": "https://localhost:8080/"
        },
        "id": "SKAizQAMibmT",
        "outputId": "5a88c9fb-6342-48af-b0ca-62da231b550a"
      },
      "execution_count": 170,
      "outputs": [
        {
          "output_type": "execute_result",
          "data": {
            "text/plain": [
              "array([[ 1.88589151, -0.25350699],\n",
              "       [-0.20576405, -1.22744597],\n",
              "       [-1.76849115,  0.50342898],\n",
              "       [ 0.48352346,  1.3271549 ],\n",
              "       [ 0.28023984,  1.5524836 ],\n",
              "       [-1.32998038,  0.44117075],\n",
              "       [-1.05923965, -1.30145969],\n",
              "       [ 1.11921419, -0.25405531],\n",
              "       [ 0.59460623, -0.78777028]])"
            ]
          },
          "metadata": {},
          "execution_count": 170
        }
      ]
    },
    {
      "cell_type": "code",
      "source": [
        "df3['Cluster Labels'] = cluster_labels"
      ],
      "metadata": {
        "id": "a1gTaoXgiuqV"
      },
      "execution_count": 171,
      "outputs": []
    },
    {
      "cell_type": "code",
      "source": [
        "df3"
      ],
      "metadata": {
        "colab": {
          "base_uri": "https://localhost:8080/",
          "height": 423
        },
        "id": "2u1RHzSXjgdc",
        "outputId": "20e459cc-6a30-4bbf-edb3-d68e0e5bd1cf"
      },
      "execution_count": 172,
      "outputs": [
        {
          "output_type": "execute_result",
          "data": {
            "text/plain": [
              "         PCA1      PCA2  Cluster Labels\n",
              "0   -0.325265  0.088194               4\n",
              "1   -1.335570  0.048744               4\n",
              "2    0.166283 -1.217136               1\n",
              "3   -1.560513 -1.281332               8\n",
              "4   -0.186240 -1.310478               1\n",
              "..        ...       ...             ...\n",
              "195 -1.447094  1.390071               5\n",
              "196  0.363437  1.566903               9\n",
              "197 -1.066794  2.942625               2\n",
              "198  0.412561  2.977770               3\n",
              "199 -1.403758  2.950068               2\n",
              "\n",
              "[200 rows x 3 columns]"
            ],
            "text/html": [
              "\n",
              "\n",
              "  <div id=\"df-5d859a2b-a227-4046-96a0-36406940abd9\">\n",
              "    <div class=\"colab-df-container\">\n",
              "      <div>\n",
              "<style scoped>\n",
              "    .dataframe tbody tr th:only-of-type {\n",
              "        vertical-align: middle;\n",
              "    }\n",
              "\n",
              "    .dataframe tbody tr th {\n",
              "        vertical-align: top;\n",
              "    }\n",
              "\n",
              "    .dataframe thead th {\n",
              "        text-align: right;\n",
              "    }\n",
              "</style>\n",
              "<table border=\"1\" class=\"dataframe\">\n",
              "  <thead>\n",
              "    <tr style=\"text-align: right;\">\n",
              "      <th></th>\n",
              "      <th>PCA1</th>\n",
              "      <th>PCA2</th>\n",
              "      <th>Cluster Labels</th>\n",
              "    </tr>\n",
              "  </thead>\n",
              "  <tbody>\n",
              "    <tr>\n",
              "      <th>0</th>\n",
              "      <td>-0.325265</td>\n",
              "      <td>0.088194</td>\n",
              "      <td>4</td>\n",
              "    </tr>\n",
              "    <tr>\n",
              "      <th>1</th>\n",
              "      <td>-1.335570</td>\n",
              "      <td>0.048744</td>\n",
              "      <td>4</td>\n",
              "    </tr>\n",
              "    <tr>\n",
              "      <th>2</th>\n",
              "      <td>0.166283</td>\n",
              "      <td>-1.217136</td>\n",
              "      <td>1</td>\n",
              "    </tr>\n",
              "    <tr>\n",
              "      <th>3</th>\n",
              "      <td>-1.560513</td>\n",
              "      <td>-1.281332</td>\n",
              "      <td>8</td>\n",
              "    </tr>\n",
              "    <tr>\n",
              "      <th>4</th>\n",
              "      <td>-0.186240</td>\n",
              "      <td>-1.310478</td>\n",
              "      <td>1</td>\n",
              "    </tr>\n",
              "    <tr>\n",
              "      <th>...</th>\n",
              "      <td>...</td>\n",
              "      <td>...</td>\n",
              "      <td>...</td>\n",
              "    </tr>\n",
              "    <tr>\n",
              "      <th>195</th>\n",
              "      <td>-1.447094</td>\n",
              "      <td>1.390071</td>\n",
              "      <td>5</td>\n",
              "    </tr>\n",
              "    <tr>\n",
              "      <th>196</th>\n",
              "      <td>0.363437</td>\n",
              "      <td>1.566903</td>\n",
              "      <td>9</td>\n",
              "    </tr>\n",
              "    <tr>\n",
              "      <th>197</th>\n",
              "      <td>-1.066794</td>\n",
              "      <td>2.942625</td>\n",
              "      <td>2</td>\n",
              "    </tr>\n",
              "    <tr>\n",
              "      <th>198</th>\n",
              "      <td>0.412561</td>\n",
              "      <td>2.977770</td>\n",
              "      <td>3</td>\n",
              "    </tr>\n",
              "    <tr>\n",
              "      <th>199</th>\n",
              "      <td>-1.403758</td>\n",
              "      <td>2.950068</td>\n",
              "      <td>2</td>\n",
              "    </tr>\n",
              "  </tbody>\n",
              "</table>\n",
              "<p>200 rows × 3 columns</p>\n",
              "</div>\n",
              "      <button class=\"colab-df-convert\" onclick=\"convertToInteractive('df-5d859a2b-a227-4046-96a0-36406940abd9')\"\n",
              "              title=\"Convert this dataframe to an interactive table.\"\n",
              "              style=\"display:none;\">\n",
              "\n",
              "  <svg xmlns=\"http://www.w3.org/2000/svg\" height=\"24px\"viewBox=\"0 0 24 24\"\n",
              "       width=\"24px\">\n",
              "    <path d=\"M0 0h24v24H0V0z\" fill=\"none\"/>\n",
              "    <path d=\"M18.56 5.44l.94 2.06.94-2.06 2.06-.94-2.06-.94-.94-2.06-.94 2.06-2.06.94zm-11 1L8.5 8.5l.94-2.06 2.06-.94-2.06-.94L8.5 2.5l-.94 2.06-2.06.94zm10 10l.94 2.06.94-2.06 2.06-.94-2.06-.94-.94-2.06-.94 2.06-2.06.94z\"/><path d=\"M17.41 7.96l-1.37-1.37c-.4-.4-.92-.59-1.43-.59-.52 0-1.04.2-1.43.59L10.3 9.45l-7.72 7.72c-.78.78-.78 2.05 0 2.83L4 21.41c.39.39.9.59 1.41.59.51 0 1.02-.2 1.41-.59l7.78-7.78 2.81-2.81c.8-.78.8-2.07 0-2.86zM5.41 20L4 18.59l7.72-7.72 1.47 1.35L5.41 20z\"/>\n",
              "  </svg>\n",
              "      </button>\n",
              "\n",
              "\n",
              "\n",
              "    <div id=\"df-244f708c-47e8-4990-997f-b925a2320409\">\n",
              "      <button class=\"colab-df-quickchart\" onclick=\"quickchart('df-244f708c-47e8-4990-997f-b925a2320409')\"\n",
              "              title=\"Suggest charts.\"\n",
              "              style=\"display:none;\">\n",
              "\n",
              "<svg xmlns=\"http://www.w3.org/2000/svg\" height=\"24px\"viewBox=\"0 0 24 24\"\n",
              "     width=\"24px\">\n",
              "    <g>\n",
              "        <path d=\"M19 3H5c-1.1 0-2 .9-2 2v14c0 1.1.9 2 2 2h14c1.1 0 2-.9 2-2V5c0-1.1-.9-2-2-2zM9 17H7v-7h2v7zm4 0h-2V7h2v10zm4 0h-2v-4h2v4z\"/>\n",
              "    </g>\n",
              "</svg>\n",
              "      </button>\n",
              "    </div>\n",
              "\n",
              "<style>\n",
              "  .colab-df-quickchart {\n",
              "    background-color: #E8F0FE;\n",
              "    border: none;\n",
              "    border-radius: 50%;\n",
              "    cursor: pointer;\n",
              "    display: none;\n",
              "    fill: #1967D2;\n",
              "    height: 32px;\n",
              "    padding: 0 0 0 0;\n",
              "    width: 32px;\n",
              "  }\n",
              "\n",
              "  .colab-df-quickchart:hover {\n",
              "    background-color: #E2EBFA;\n",
              "    box-shadow: 0px 1px 2px rgba(60, 64, 67, 0.3), 0px 1px 3px 1px rgba(60, 64, 67, 0.15);\n",
              "    fill: #174EA6;\n",
              "  }\n",
              "\n",
              "  [theme=dark] .colab-df-quickchart {\n",
              "    background-color: #3B4455;\n",
              "    fill: #D2E3FC;\n",
              "  }\n",
              "\n",
              "  [theme=dark] .colab-df-quickchart:hover {\n",
              "    background-color: #434B5C;\n",
              "    box-shadow: 0px 1px 3px 1px rgba(0, 0, 0, 0.15);\n",
              "    filter: drop-shadow(0px 1px 2px rgba(0, 0, 0, 0.3));\n",
              "    fill: #FFFFFF;\n",
              "  }\n",
              "</style>\n",
              "\n",
              "    <script>\n",
              "      async function quickchart(key) {\n",
              "        const containerElement = document.querySelector('#' + key);\n",
              "        const charts = await google.colab.kernel.invokeFunction(\n",
              "            'suggestCharts', [key], {});\n",
              "      }\n",
              "    </script>\n",
              "\n",
              "      <script>\n",
              "\n",
              "function displayQuickchartButton(domScope) {\n",
              "  let quickchartButtonEl =\n",
              "    domScope.querySelector('#df-244f708c-47e8-4990-997f-b925a2320409 button.colab-df-quickchart');\n",
              "  quickchartButtonEl.style.display =\n",
              "    google.colab.kernel.accessAllowed ? 'block' : 'none';\n",
              "}\n",
              "\n",
              "        displayQuickchartButton(document);\n",
              "      </script>\n",
              "      <style>\n",
              "    .colab-df-container {\n",
              "      display:flex;\n",
              "      flex-wrap:wrap;\n",
              "      gap: 12px;\n",
              "    }\n",
              "\n",
              "    .colab-df-convert {\n",
              "      background-color: #E8F0FE;\n",
              "      border: none;\n",
              "      border-radius: 50%;\n",
              "      cursor: pointer;\n",
              "      display: none;\n",
              "      fill: #1967D2;\n",
              "      height: 32px;\n",
              "      padding: 0 0 0 0;\n",
              "      width: 32px;\n",
              "    }\n",
              "\n",
              "    .colab-df-convert:hover {\n",
              "      background-color: #E2EBFA;\n",
              "      box-shadow: 0px 1px 2px rgba(60, 64, 67, 0.3), 0px 1px 3px 1px rgba(60, 64, 67, 0.15);\n",
              "      fill: #174EA6;\n",
              "    }\n",
              "\n",
              "    [theme=dark] .colab-df-convert {\n",
              "      background-color: #3B4455;\n",
              "      fill: #D2E3FC;\n",
              "    }\n",
              "\n",
              "    [theme=dark] .colab-df-convert:hover {\n",
              "      background-color: #434B5C;\n",
              "      box-shadow: 0px 1px 3px 1px rgba(0, 0, 0, 0.15);\n",
              "      filter: drop-shadow(0px 1px 2px rgba(0, 0, 0, 0.3));\n",
              "      fill: #FFFFFF;\n",
              "    }\n",
              "  </style>\n",
              "\n",
              "      <script>\n",
              "        const buttonEl =\n",
              "          document.querySelector('#df-5d859a2b-a227-4046-96a0-36406940abd9 button.colab-df-convert');\n",
              "        buttonEl.style.display =\n",
              "          google.colab.kernel.accessAllowed ? 'block' : 'none';\n",
              "\n",
              "        async function convertToInteractive(key) {\n",
              "          const element = document.querySelector('#df-5d859a2b-a227-4046-96a0-36406940abd9');\n",
              "          const dataTable =\n",
              "            await google.colab.kernel.invokeFunction('convertToInteractive',\n",
              "                                                     [key], {});\n",
              "          if (!dataTable) return;\n",
              "\n",
              "          const docLinkHtml = 'Like what you see? Visit the ' +\n",
              "            '<a target=\"_blank\" href=https://colab.research.google.com/notebooks/data_table.ipynb>data table notebook</a>'\n",
              "            + ' to learn more about interactive tables.';\n",
              "          element.innerHTML = '';\n",
              "          dataTable['output_type'] = 'display_data';\n",
              "          await google.colab.output.renderOutput(dataTable, element);\n",
              "          const docLink = document.createElement('div');\n",
              "          docLink.innerHTML = docLinkHtml;\n",
              "          element.appendChild(docLink);\n",
              "        }\n",
              "      </script>\n",
              "    </div>\n",
              "  </div>\n"
            ]
          },
          "metadata": {},
          "execution_count": 172
        }
      ]
    },
    {
      "cell_type": "markdown",
      "source": [
        "### Visualize the Cluster Data"
      ],
      "metadata": {
        "id": "1SMUmWeetazN"
      }
    },
    {
      "cell_type": "code",
      "source": [
        "sns.set_style('darkgrid')\n",
        "plt.figure(figsize=(8,6))\n",
        "sns.scatterplot(data=df3, x='PCA1', y='PCA2', hue='Cluster Labels')\n",
        "plt.scatter(reduce_centers[:,0],reduce_centers[:,1], marker='x',s=300)\n",
        "plt.xlabel('PCA1')\n",
        "plt.ylabel('PCA2')\n",
        "plt.title('Clustering using Scatter plot')\n",
        "plt.show()"
      ],
      "metadata": {
        "colab": {
          "base_uri": "https://localhost:8080/",
          "height": 565
        },
        "id": "pBGQIcSTjhEi",
        "outputId": "620c6016-b96b-4ff5-a03a-d38f14c50f61"
      },
      "execution_count": 173,
      "outputs": [
        {
          "output_type": "display_data",
          "data": {
            "text/plain": [
              "<Figure size 800x600 with 1 Axes>"
            ],
            "image/png": "[encoded data removed]"
          },
          "metadata": {}
        }
      ]
    },
    {
      "cell_type": "markdown",
      "source": [
        "### Visualize the Elbow method"
      ],
      "metadata": {
        "id": "hBsVk2gYteaQ"
      }
    },
    {
      "cell_type": "code",
      "source": [
        "# Instantiate the clustering model and visualizer\n",
        "model = KMeans()\n",
        "visualizer = KElbowVisualizer(model, k=(1,10),size=(1080, 500))\n",
        "\n",
        "visualizer.fit(df3.iloc[:,:3])        # Fit the data to the visualizer\n",
        "visualizer.show()"
      ],
      "metadata": {
        "colab": {
          "base_uri": "https://localhost:8080/",
          "height": 838
        },
        "id": "OabBjx2ykwjN",
        "outputId": "4a407049-60a1-4aaa-a63a-411ed34c6cfc"
      },
      "execution_count": 174,
      "outputs": [
        {
          "output_type": "stream",
          "name": "stderr",
          "text": [
            "/usr/local/lib/python3.10/dist-packages/sklearn/cluster/_kmeans.py:870: FutureWarning: The default value of `n_init` will change from 10 to 'auto' in 1.4. Set the value of `n_init` explicitly to suppress the warning\n",
            "  warnings.warn(\n",
            "/usr/local/lib/python3.10/dist-packages/sklearn/cluster/_kmeans.py:870: FutureWarning: The default value of `n_init` will change from 10 to 'auto' in 1.4. Set the value of `n_init` explicitly to suppress the warning\n",
            "  warnings.warn(\n",
            "/usr/local/lib/python3.10/dist-packages/sklearn/cluster/_kmeans.py:870: FutureWarning: The default value of `n_init` will change from 10 to 'auto' in 1.4. Set the value of `n_init` explicitly to suppress the warning\n",
            "  warnings.warn(\n",
            "/usr/local/lib/python3.10/dist-packages/sklearn/cluster/_kmeans.py:870: FutureWarning: The default value of `n_init` will change from 10 to 'auto' in 1.4. Set the value of `n_init` explicitly to suppress the warning\n",
            "  warnings.warn(\n",
            "/usr/local/lib/python3.10/dist-packages/sklearn/cluster/_kmeans.py:870: FutureWarning: The default value of `n_init` will change from 10 to 'auto' in 1.4. Set the value of `n_init` explicitly to suppress the warning\n",
            "  warnings.warn(\n",
            "/usr/local/lib/python3.10/dist-packages/sklearn/cluster/_kmeans.py:870: FutureWarning: The default value of `n_init` will change from 10 to 'auto' in 1.4. Set the value of `n_init` explicitly to suppress the warning\n",
            "  warnings.warn(\n",
            "/usr/local/lib/python3.10/dist-packages/sklearn/cluster/_kmeans.py:870: FutureWarning: The default value of `n_init` will change from 10 to 'auto' in 1.4. Set the value of `n_init` explicitly to suppress the warning\n",
            "  warnings.warn(\n",
            "/usr/local/lib/python3.10/dist-packages/sklearn/cluster/_kmeans.py:870: FutureWarning: The default value of `n_init` will change from 10 to 'auto' in 1.4. Set the value of `n_init` explicitly to suppress the warning\n",
            "  warnings.warn(\n",
            "/usr/local/lib/python3.10/dist-packages/sklearn/cluster/_kmeans.py:870: FutureWarning: The default value of `n_init` will change from 10 to 'auto' in 1.4. Set the value of `n_init` explicitly to suppress the warning\n",
            "  warnings.warn(\n"
          ]
        },
        {
          "output_type": "display_data",
          "data": {
            "text/plain": [
              "<Figure size 1080x500 with 2 Axes>"
            ],
            "image/png": "[encoded data removed]"
          },
          "metadata": {}
        },
        {
          "output_type": "execute_result",
          "data": {
            "text/plain": [
              "<Axes: title={'center': 'Distortion Score Elbow for KMeans Clustering'}, xlabel='k', ylabel='distortion score'>"
            ]
          },
          "metadata": {},
          "execution_count": 174
        }
      ]
    },
    {
      "cell_type": "markdown",
      "source": [
        "## Evaluation with Euclidean method"
      ],
      "metadata": {
        "id": "Hvp_rmrYtjOG"
      }
    },
    {
      "cell_type": "code",
      "source": [
        "print('Silhoette Score: ', silhouette_score(df3, km1.labels_, metric='euclidean'))"
      ],
      "metadata": {
        "colab": {
          "base_uri": "https://localhost:8080/"
        },
        "id": "1kKE9FaimiKi",
        "outputId": "fc8ec7b4-575c-47e9-8eee-f304491adf2d"
      },
      "execution_count": 175,
      "outputs": [
        {
          "output_type": "stream",
          "name": "stdout",
          "text": [
            "Silhoette Score:  0.48608697885690694\n"
          ]
        }
      ]
    },
    {
      "cell_type": "markdown",
      "source": [
        "### Visualize the score"
      ],
      "metadata": {
        "id": "XeC9HI6Xtqhu"
      }
    },
    {
      "cell_type": "code",
      "source": [
        "visual = SilhouetteVisualizer(km1, size= (1080, 500))\n",
        "visual.fit(x_std)\n",
        "visual.show()"
      ],
      "metadata": {
        "colab": {
          "base_uri": "https://localhost:8080/",
          "height": 505
        },
        "id": "PaINp3kVnq8E",
        "outputId": "ba910225-4e0d-4564-89c1-1f912973981c"
      },
      "execution_count": 176,
      "outputs": [
        {
          "output_type": "display_data",
          "data": {
            "text/plain": [
              "<Figure size 1080x500 with 1 Axes>"
            ],
            "image/png": "[encoded data removed]"
          },
          "metadata": {}
        },
        {
          "output_type": "execute_result",
          "data": {
            "text/plain": [
              "<Axes: title={'center': 'Silhouette Plot of KMeans Clustering for 200 Samples in 9 Centers'}, xlabel='silhouette coefficient values', ylabel='cluster label'>"
            ]
          },
          "metadata": {},
          "execution_count": 176
        }
      ]
    },
    {
      "cell_type": "code",
      "source": [],
      "metadata": {
        "id": "UjMWWEOAogVw"
      },
      "execution_count": 176,
      "outputs": []
    }
  ]
}